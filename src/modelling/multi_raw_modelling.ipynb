{
 "cells": [
  {
   "cell_type": "markdown",
   "id": "d2c4816a",
   "metadata": {},
   "source": [
    "# Multi Raw Aspect Modelling"
   ]
  },
  {
   "cell_type": "code",
   "execution_count": 8,
   "id": "58d62a4d",
   "metadata": {},
   "outputs": [],
   "source": [
    "import pandas as pd\n",
    "import numpy as np\n",
    "import tensorflow as tf\n",
    "from scipy.sparse import csr_matrix, hstack\n",
    "from tensorflow.keras.layers import Dense, Input\n",
    "from tensorflow.keras.optimizers import Adam, RMSprop, SGD\n",
    "from tensorflow.keras.losses import SparseCategoricalCrossentropy, MeanSquaredError\n",
    "from sklearn.feature_extraction.text import TfidfVectorizer\n",
    "from sklearn.model_selection import train_test_split"
   ]
  },
  {
   "cell_type": "code",
   "execution_count": 1,
   "id": "6df87ec6",
   "metadata": {},
   "outputs": [],
   "source": [
    "PATH    = \"./../data/multiple_raw.csv\""
   ]
  },
  {
   "cell_type": "code",
   "execution_count": 4,
   "id": "3120efbb",
   "metadata": {},
   "outputs": [],
   "source": [
    "data = pd.read_csv(PATH, usecols=[\"ProductId\", \"Score\", \"Text\"])"
   ]
  },
  {
   "cell_type": "code",
   "execution_count": 5,
   "id": "692d48cc",
   "metadata": {},
   "outputs": [
    {
     "data": {
      "text/html": [
       "<div>\n",
       "<style scoped>\n",
       "    .dataframe tbody tr th:only-of-type {\n",
       "        vertical-align: middle;\n",
       "    }\n",
       "\n",
       "    .dataframe tbody tr th {\n",
       "        vertical-align: top;\n",
       "    }\n",
       "\n",
       "    .dataframe thead th {\n",
       "        text-align: right;\n",
       "    }\n",
       "</style>\n",
       "<table border=\"1\" class=\"dataframe\">\n",
       "  <thead>\n",
       "    <tr style=\"text-align: right;\">\n",
       "      <th></th>\n",
       "      <th>ProductId</th>\n",
       "      <th>Score</th>\n",
       "      <th>Text</th>\n",
       "    </tr>\n",
       "  </thead>\n",
       "  <tbody>\n",
       "    <tr>\n",
       "      <th>0</th>\n",
       "      <td>2</td>\n",
       "      <td>5</td>\n",
       "      <td>great taffy great taffy great price wide assor...</td>\n",
       "    </tr>\n",
       "    <tr>\n",
       "      <th>1</th>\n",
       "      <td>2</td>\n",
       "      <td>5</td>\n",
       "      <td>great good expensive brand saltwater taffy gre...</td>\n",
       "    </tr>\n",
       "    <tr>\n",
       "      <th>2</th>\n",
       "      <td>2</td>\n",
       "      <td>5</td>\n",
       "      <td>wonderful tasty taffy taffy good soft chewy fl...</td>\n",
       "    </tr>\n",
       "    <tr>\n",
       "      <th>3</th>\n",
       "      <td>3</td>\n",
       "      <td>5</td>\n",
       "      <td>good hot sauce world know cactus tequila uniqu...</td>\n",
       "    </tr>\n",
       "    <tr>\n",
       "      <th>4</th>\n",
       "      <td>4</td>\n",
       "      <td>4</td>\n",
       "      <td>fresh greasy good flavor come securely pack fr...</td>\n",
       "    </tr>\n",
       "  </tbody>\n",
       "</table>\n",
       "</div>"
      ],
      "text/plain": [
       "   ProductId  Score                                               Text\n",
       "0          2      5  great taffy great taffy great price wide assor...\n",
       "1          2      5  great good expensive brand saltwater taffy gre...\n",
       "2          2      5  wonderful tasty taffy taffy good soft chewy fl...\n",
       "3          3      5  good hot sauce world know cactus tequila uniqu...\n",
       "4          4      4  fresh greasy good flavor come securely pack fr..."
      ]
     },
     "execution_count": 5,
     "metadata": {},
     "output_type": "execute_result"
    }
   ],
   "source": [
    "data.head()"
   ]
  },
  {
   "cell_type": "code",
   "execution_count": 6,
   "id": "a129ec04",
   "metadata": {},
   "outputs": [],
   "source": [
    "# Return matrix of tfidf for each configuration of documents (rows) and words (columns)\n",
    "vectorizer  = TfidfVectorizer()\n",
    "word_sparse = vectorizer.fit_transform(data[\"Text\"])"
   ]
  },
  {
   "cell_type": "code",
   "execution_count": 7,
   "id": "f949af60",
   "metadata": {},
   "outputs": [],
   "source": [
    "product_ids = data[\"ProductId\"].values.reshape(-1,1)\n",
    "product_ids_sparse = csr_matrix(product_ids)"
   ]
  },
  {
   "cell_type": "code",
   "execution_count": 9,
   "id": "1f182eb3",
   "metadata": {},
   "outputs": [],
   "source": [
    "x = hstack([product_ids, word_sparse])\n",
    "y = data[\"Score\"].values - 1"
   ]
  },
  {
   "cell_type": "code",
   "execution_count": 10,
   "id": "adea33ee",
   "metadata": {},
   "outputs": [],
   "source": [
    "x_train, x_test, y_train, y_test = train_test_split(\n",
    "    x, y,\n",
    "    test_size=0.2,\n",
    "    random_state=42\n",
    ")"
   ]
  },
  {
   "cell_type": "code",
   "execution_count": 11,
   "id": "8b9fb5d5",
   "metadata": {},
   "outputs": [
    {
     "name": "stdout",
     "output_type": "stream",
     "text": [
      "(87412, 53794)\n",
      "(87412,)\n",
      "(21854, 53794)\n",
      "(21854,)\n"
     ]
    }
   ],
   "source": [
    "print(x_train.shape)\n",
    "print(y_train.shape)\n",
    "print(x_test.shape)\n",
    "print(y_test.shape)"
   ]
  },
  {
   "cell_type": "markdown",
   "id": "072e3b1b",
   "metadata": {},
   "source": [
    "## Neural Network Classifier"
   ]
  },
  {
   "cell_type": "code",
   "execution_count": 12,
   "id": "ea6fc19c",
   "metadata": {},
   "outputs": [],
   "source": [
    "input_dim   = x.shape[1]\n",
    "\n",
    "n_neurons_1 = 70\n",
    "n_neurons_2 = 70\n",
    "n_neurons_3 = 70\n",
    "\n",
    "output_dim  = 5\n",
    "\n",
    "epoch_no    = 100\n",
    "batch_size  = 512"
   ]
  },
  {
   "cell_type": "code",
   "execution_count": 13,
   "id": "5bd1e50d",
   "metadata": {},
   "outputs": [],
   "source": [
    "# Define generator for training data\n",
    "def train_generator():\n",
    "    for i in range(x_train.shape[0]):\n",
    "        yield x_train[i].toarray()[0].astype(np.float32), y_train[i]\n",
    "\n",
    "# Define generator for testing data\n",
    "def test_generator():\n",
    "    for i in range(x_test.shape[0]):\n",
    "        yield x_test[i].toarray()[0].astype(np.float32), y_test[i]"
   ]
  },
  {
   "cell_type": "code",
   "execution_count": 14,
   "id": "a3243deb",
   "metadata": {},
   "outputs": [],
   "source": [
    "# TensorFlow Datasets from generators\n",
    "train_dataset = tf.data.Dataset.from_generator(\n",
    "    train_generator,\n",
    "    output_signature=(\n",
    "        tf.TensorSpec(shape=(x_train.shape[1],), dtype=tf.float32),\n",
    "        tf.TensorSpec(shape=(), dtype=tf.int64),\n",
    "    )\n",
    ").batch(batch_size).prefetch(tf.data.AUTOTUNE)\n",
    "\n",
    "test_dataset = tf.data.Dataset.from_generator(\n",
    "    test_generator,\n",
    "    output_signature=(\n",
    "        tf.TensorSpec(shape=(x_test.shape[1],), dtype=tf.float32),\n",
    "        tf.TensorSpec(shape=(), dtype=tf.int64),\n",
    "    )\n",
    ").batch(batch_size).prefetch(tf.data.AUTOTUNE)"
   ]
  },
  {
   "cell_type": "code",
   "execution_count": 15,
   "id": "23aaada7",
   "metadata": {},
   "outputs": [],
   "source": [
    "# Add layers and activation function to neural network\n",
    "nn_class    = tf.keras.Sequential()\n",
    "\n",
    "nn_class.add(Input(shape=(input_dim,)))\n",
    "nn_class.add(Dense(n_neurons_1, activation='relu'))\n",
    "nn_class.add(Dense(n_neurons_2, activation='relu'))\n",
    "nn_class.add(Dense(n_neurons_3, activation='relu'))\n",
    "nn_class.add(Dense(output_dim, activation='sigmoid'))\n",
    "\n",
    "# Configure loss function, gradient descent, and evaluation metrics\n",
    "nn_class.compile(\n",
    "    optimizer=Adam(learning_rate=0.001),\n",
    "    loss=SparseCategoricalCrossentropy(),\n",
    "    metrics=[\"accuracy\"]\n",
    ")"
   ]
  },
  {
   "cell_type": "code",
   "execution_count": 16,
   "id": "4105556c",
   "metadata": {},
   "outputs": [
    {
     "name": "stdout",
     "output_type": "stream",
     "text": [
      "Epoch 1/100\n",
      "\u001b[1m171/171\u001b[0m \u001b[32m━━━━━━━━━━━━━━━━━━━━\u001b[0m\u001b[37m\u001b[0m \u001b[1m64s\u001b[0m 367ms/step - accuracy: 0.4612 - loss: 11.7317\n",
      "Epoch 2/100\n"
     ]
    },
    {
     "name": "stderr",
     "output_type": "stream",
     "text": [
      "c:\\Users\\Cyrus\\anaconda3\\envs\\tfenv\\lib\\site-packages\\keras\\src\\trainers\\epoch_iterator.py:151: UserWarning: Your input ran out of data; interrupting training. Make sure that your dataset or generator can generate at least `steps_per_epoch * epochs` batches. You may need to use the `.repeat()` function when building your dataset.\n",
      "  self._interrupted_warning()\n"
     ]
    },
    {
     "name": "stdout",
     "output_type": "stream",
     "text": [
      "\u001b[1m171/171\u001b[0m \u001b[32m━━━━━━━━━━━━━━━━━━━━\u001b[0m\u001b[37m\u001b[0m \u001b[1m54s\u001b[0m 319ms/step - accuracy: 0.5428 - loss: 2.7927\n",
      "Epoch 3/100\n",
      "\u001b[1m171/171\u001b[0m \u001b[32m━━━━━━━━━━━━━━━━━━━━\u001b[0m\u001b[37m\u001b[0m \u001b[1m50s\u001b[0m 293ms/step - accuracy: 0.6386 - loss: 1.4324\n",
      "Epoch 4/100\n",
      "\u001b[1m171/171\u001b[0m \u001b[32m━━━━━━━━━━━━━━━━━━━━\u001b[0m\u001b[37m\u001b[0m \u001b[1m48s\u001b[0m 277ms/step - accuracy: 0.5946 - loss: 1.8258\n",
      "Epoch 5/100\n",
      "\u001b[1m171/171\u001b[0m \u001b[32m━━━━━━━━━━━━━━━━━━━━\u001b[0m\u001b[37m\u001b[0m \u001b[1m47s\u001b[0m 278ms/step - accuracy: 0.6345 - loss: 1.2678\n",
      "Epoch 6/100\n",
      "\u001b[1m171/171\u001b[0m \u001b[32m━━━━━━━━━━━━━━━━━━━━\u001b[0m\u001b[37m\u001b[0m \u001b[1m50s\u001b[0m 292ms/step - accuracy: 0.6472 - loss: 1.1781\n",
      "Epoch 7/100\n",
      "\u001b[1m171/171\u001b[0m \u001b[32m━━━━━━━━━━━━━━━━━━━━\u001b[0m\u001b[37m\u001b[0m \u001b[1m51s\u001b[0m 297ms/step - accuracy: 0.6350 - loss: 1.3343\n",
      "Epoch 8/100\n",
      "\u001b[1m171/171\u001b[0m \u001b[32m━━━━━━━━━━━━━━━━━━━━\u001b[0m\u001b[37m\u001b[0m \u001b[1m48s\u001b[0m 280ms/step - accuracy: 0.6512 - loss: 1.1211\n",
      "Epoch 9/100\n",
      "\u001b[1m171/171\u001b[0m \u001b[32m━━━━━━━━━━━━━━━━━━━━\u001b[0m\u001b[37m\u001b[0m \u001b[1m51s\u001b[0m 297ms/step - accuracy: 0.6517 - loss: 1.1068\n",
      "Epoch 10/100\n",
      "\u001b[1m171/171\u001b[0m \u001b[32m━━━━━━━━━━━━━━━━━━━━\u001b[0m\u001b[37m\u001b[0m \u001b[1m50s\u001b[0m 294ms/step - accuracy: 0.5568 - loss: 2.8235\n",
      "Epoch 11/100\n",
      "\u001b[1m171/171\u001b[0m \u001b[32m━━━━━━━━━━━━━━━━━━━━\u001b[0m\u001b[37m\u001b[0m \u001b[1m50s\u001b[0m 290ms/step - accuracy: 0.6565 - loss: 1.0776\n",
      "Epoch 12/100\n",
      "\u001b[1m171/171\u001b[0m \u001b[32m━━━━━━━━━━━━━━━━━━━━\u001b[0m\u001b[37m\u001b[0m \u001b[1m57s\u001b[0m 331ms/step - accuracy: 0.6533 - loss: 1.0900\n",
      "Epoch 13/100\n",
      "\u001b[1m171/171\u001b[0m \u001b[32m━━━━━━━━━━━━━━━━━━━━\u001b[0m\u001b[37m\u001b[0m \u001b[1m48s\u001b[0m 279ms/step - accuracy: 0.6555 - loss: 1.0535\n",
      "Epoch 14/100\n",
      "\u001b[1m171/171\u001b[0m \u001b[32m━━━━━━━━━━━━━━━━━━━━\u001b[0m\u001b[37m\u001b[0m \u001b[1m48s\u001b[0m 281ms/step - accuracy: 0.6573 - loss: 1.0503\n",
      "Epoch 15/100\n",
      "\u001b[1m171/171\u001b[0m \u001b[32m━━━━━━━━━━━━━━━━━━━━\u001b[0m\u001b[37m\u001b[0m \u001b[1m48s\u001b[0m 279ms/step - accuracy: 0.6464 - loss: 1.1350\n",
      "Epoch 16/100\n",
      "\u001b[1m171/171\u001b[0m \u001b[32m━━━━━━━━━━━━━━━━━━━━\u001b[0m\u001b[37m\u001b[0m \u001b[1m53s\u001b[0m 309ms/step - accuracy: 0.6134 - loss: 1.8747\n",
      "Epoch 17/100\n",
      "\u001b[1m171/171\u001b[0m \u001b[32m━━━━━━━━━━━━━━━━━━━━\u001b[0m\u001b[37m\u001b[0m \u001b[1m50s\u001b[0m 293ms/step - accuracy: 0.6572 - loss: 1.0531\n",
      "Epoch 18/100\n",
      "\u001b[1m171/171\u001b[0m \u001b[32m━━━━━━━━━━━━━━━━━━━━\u001b[0m\u001b[37m\u001b[0m \u001b[1m49s\u001b[0m 284ms/step - accuracy: 0.6441 - loss: 1.1978\n",
      "Epoch 19/100\n",
      "\u001b[1m171/171\u001b[0m \u001b[32m━━━━━━━━━━━━━━━━━━━━\u001b[0m\u001b[37m\u001b[0m \u001b[1m48s\u001b[0m 282ms/step - accuracy: 0.6433 - loss: 1.1645\n",
      "Epoch 20/100\n",
      "\u001b[1m171/171\u001b[0m \u001b[32m━━━━━━━━━━━━━━━━━━━━\u001b[0m\u001b[37m\u001b[0m \u001b[1m49s\u001b[0m 289ms/step - accuracy: 0.6564 - loss: 1.0645\n",
      "Epoch 21/100\n",
      "\u001b[1m171/171\u001b[0m \u001b[32m━━━━━━━━━━━━━━━━━━━━\u001b[0m\u001b[37m\u001b[0m \u001b[1m48s\u001b[0m 281ms/step - accuracy: 0.6538 - loss: 1.0619\n",
      "Epoch 22/100\n",
      "\u001b[1m171/171\u001b[0m \u001b[32m━━━━━━━━━━━━━━━━━━━━\u001b[0m\u001b[37m\u001b[0m \u001b[1m46s\u001b[0m 268ms/step - accuracy: 0.6444 - loss: 1.1343\n",
      "Epoch 23/100\n",
      "\u001b[1m171/171\u001b[0m \u001b[32m━━━━━━━━━━━━━━━━━━━━\u001b[0m\u001b[37m\u001b[0m \u001b[1m44s\u001b[0m 259ms/step - accuracy: 0.6581 - loss: 1.0395\n",
      "Epoch 24/100\n",
      "\u001b[1m171/171\u001b[0m \u001b[32m━━━━━━━━━━━━━━━━━━━━\u001b[0m\u001b[37m\u001b[0m \u001b[1m44s\u001b[0m 258ms/step - accuracy: 0.6507 - loss: 1.0777\n",
      "Epoch 25/100\n",
      "\u001b[1m171/171\u001b[0m \u001b[32m━━━━━━━━━━━━━━━━━━━━\u001b[0m\u001b[37m\u001b[0m \u001b[1m44s\u001b[0m 258ms/step - accuracy: 0.6593 - loss: 1.0310\n",
      "Epoch 26/100\n",
      "\u001b[1m171/171\u001b[0m \u001b[32m━━━━━━━━━━━━━━━━━━━━\u001b[0m\u001b[37m\u001b[0m \u001b[1m44s\u001b[0m 256ms/step - accuracy: 0.6586 - loss: 1.0347\n",
      "Epoch 27/100\n",
      "\u001b[1m171/171\u001b[0m \u001b[32m━━━━━━━━━━━━━━━━━━━━\u001b[0m\u001b[37m\u001b[0m \u001b[1m44s\u001b[0m 257ms/step - accuracy: 0.6603 - loss: 1.0143\n",
      "Epoch 28/100\n",
      "\u001b[1m171/171\u001b[0m \u001b[32m━━━━━━━━━━━━━━━━━━━━\u001b[0m\u001b[37m\u001b[0m \u001b[1m45s\u001b[0m 260ms/step - accuracy: 0.6639 - loss: 0.9946\n",
      "Epoch 29/100\n",
      "\u001b[1m171/171\u001b[0m \u001b[32m━━━━━━━━━━━━━━━━━━━━\u001b[0m\u001b[37m\u001b[0m \u001b[1m46s\u001b[0m 271ms/step - accuracy: 0.6426 - loss: 1.2835\n",
      "Epoch 30/100\n",
      "\u001b[1m171/171\u001b[0m \u001b[32m━━━━━━━━━━━━━━━━━━━━\u001b[0m\u001b[37m\u001b[0m \u001b[1m45s\u001b[0m 260ms/step - accuracy: 0.6569 - loss: 1.0331\n",
      "Epoch 31/100\n",
      "\u001b[1m171/171\u001b[0m \u001b[32m━━━━━━━━━━━━━━━━━━━━\u001b[0m\u001b[37m\u001b[0m \u001b[1m44s\u001b[0m 255ms/step - accuracy: 0.6656 - loss: 0.9839\n",
      "Epoch 32/100\n",
      "\u001b[1m171/171\u001b[0m \u001b[32m━━━━━━━━━━━━━━━━━━━━\u001b[0m\u001b[37m\u001b[0m \u001b[1m44s\u001b[0m 259ms/step - accuracy: 0.6632 - loss: 1.0085\n",
      "Epoch 33/100\n",
      "\u001b[1m171/171\u001b[0m \u001b[32m━━━━━━━━━━━━━━━━━━━━\u001b[0m\u001b[37m\u001b[0m \u001b[1m44s\u001b[0m 256ms/step - accuracy: 0.6593 - loss: 1.1957\n",
      "Epoch 34/100\n",
      "\u001b[1m171/171\u001b[0m \u001b[32m━━━━━━━━━━━━━━━━━━━━\u001b[0m\u001b[37m\u001b[0m \u001b[1m44s\u001b[0m 257ms/step - accuracy: 0.6609 - loss: 1.0031\n",
      "Epoch 35/100\n",
      "\u001b[1m171/171\u001b[0m \u001b[32m━━━━━━━━━━━━━━━━━━━━\u001b[0m\u001b[37m\u001b[0m \u001b[1m47s\u001b[0m 274ms/step - accuracy: 0.6667 - loss: 0.9748\n",
      "Epoch 36/100\n",
      "\u001b[1m171/171\u001b[0m \u001b[32m━━━━━━━━━━━━━━━━━━━━\u001b[0m\u001b[37m\u001b[0m \u001b[1m46s\u001b[0m 267ms/step - accuracy: 0.6677 - loss: 0.9843\n",
      "Epoch 37/100\n",
      "\u001b[1m171/171\u001b[0m \u001b[32m━━━━━━━━━━━━━━━━━━━━\u001b[0m\u001b[37m\u001b[0m \u001b[1m47s\u001b[0m 277ms/step - accuracy: 0.6151 - loss: 4.5387\n",
      "Epoch 38/100\n",
      "\u001b[1m171/171\u001b[0m \u001b[32m━━━━━━━━━━━━━━━━━━━━\u001b[0m\u001b[37m\u001b[0m \u001b[1m45s\u001b[0m 264ms/step - accuracy: 0.6570 - loss: 1.0542\n",
      "Epoch 39/100\n",
      "\u001b[1m171/171\u001b[0m \u001b[32m━━━━━━━━━━━━━━━━━━━━\u001b[0m\u001b[37m\u001b[0m \u001b[1m46s\u001b[0m 269ms/step - accuracy: 0.6529 - loss: 1.0544\n",
      "Epoch 40/100\n",
      "\u001b[1m171/171\u001b[0m \u001b[32m━━━━━━━━━━━━━━━━━━━━\u001b[0m\u001b[37m\u001b[0m \u001b[1m57s\u001b[0m 331ms/step - accuracy: 0.6607 - loss: 1.0016\n",
      "Epoch 41/100\n",
      "\u001b[1m171/171\u001b[0m \u001b[32m━━━━━━━━━━━━━━━━━━━━\u001b[0m\u001b[37m\u001b[0m \u001b[1m58s\u001b[0m 336ms/step - accuracy: 0.6629 - loss: 0.9963\n",
      "Epoch 42/100\n",
      "\u001b[1m171/171\u001b[0m \u001b[32m━━━━━━━━━━━━━━━━━━━━\u001b[0m\u001b[37m\u001b[0m \u001b[1m57s\u001b[0m 333ms/step - accuracy: 0.6644 - loss: 0.9864\n",
      "Epoch 43/100\n",
      "\u001b[1m171/171\u001b[0m \u001b[32m━━━━━━━━━━━━━━━━━━━━\u001b[0m\u001b[37m\u001b[0m \u001b[1m56s\u001b[0m 329ms/step - accuracy: 0.6702 - loss: 0.9788\n",
      "Epoch 44/100\n",
      "\u001b[1m171/171\u001b[0m \u001b[32m━━━━━━━━━━━━━━━━━━━━\u001b[0m\u001b[37m\u001b[0m \u001b[1m53s\u001b[0m 311ms/step - accuracy: 0.6559 - loss: 1.0378\n",
      "Epoch 45/100\n",
      "\u001b[1m171/171\u001b[0m \u001b[32m━━━━━━━━━━━━━━━━━━━━\u001b[0m\u001b[37m\u001b[0m \u001b[1m54s\u001b[0m 314ms/step - accuracy: 0.6866 - loss: 0.9110\n",
      "Epoch 46/100\n",
      "\u001b[1m171/171\u001b[0m \u001b[32m━━━━━━━━━━━━━━━━━━━━\u001b[0m\u001b[37m\u001b[0m \u001b[1m53s\u001b[0m 307ms/step - accuracy: 0.6585 - loss: 1.0489\n",
      "Epoch 47/100\n",
      "\u001b[1m171/171\u001b[0m \u001b[32m━━━━━━━━━━━━━━━━━━━━\u001b[0m\u001b[37m\u001b[0m \u001b[1m49s\u001b[0m 286ms/step - accuracy: 0.6915 - loss: 0.8975\n",
      "Epoch 48/100\n",
      "\u001b[1m171/171\u001b[0m \u001b[32m━━━━━━━━━━━━━━━━━━━━\u001b[0m\u001b[37m\u001b[0m \u001b[1m49s\u001b[0m 289ms/step - accuracy: 0.6410 - loss: 1.2237\n",
      "Epoch 49/100\n",
      "\u001b[1m171/171\u001b[0m \u001b[32m━━━━━━━━━━━━━━━━━━━━\u001b[0m\u001b[37m\u001b[0m \u001b[1m52s\u001b[0m 302ms/step - accuracy: 0.6742 - loss: 0.9779\n",
      "Epoch 50/100\n",
      "\u001b[1m171/171\u001b[0m \u001b[32m━━━━━━━━━━━━━━━━━━━━\u001b[0m\u001b[37m\u001b[0m \u001b[1m56s\u001b[0m 328ms/step - accuracy: 0.6912 - loss: 0.8912\n",
      "Epoch 51/100\n",
      "\u001b[1m171/171\u001b[0m \u001b[32m━━━━━━━━━━━━━━━━━━━━\u001b[0m\u001b[37m\u001b[0m \u001b[1m54s\u001b[0m 318ms/step - accuracy: 0.6841 - loss: 0.9374\n",
      "Epoch 52/100\n",
      "\u001b[1m171/171\u001b[0m \u001b[32m━━━━━━━━━━━━━━━━━━━━\u001b[0m\u001b[37m\u001b[0m \u001b[1m50s\u001b[0m 293ms/step - accuracy: 0.7020 - loss: 0.8606\n",
      "Epoch 53/100\n",
      "\u001b[1m171/171\u001b[0m \u001b[32m━━━━━━━━━━━━━━━━━━━━\u001b[0m\u001b[37m\u001b[0m \u001b[1m48s\u001b[0m 281ms/step - accuracy: 0.6960 - loss: 0.8904\n",
      "Epoch 54/100\n",
      "\u001b[1m171/171\u001b[0m \u001b[32m━━━━━━━━━━━━━━━━━━━━\u001b[0m\u001b[37m\u001b[0m \u001b[1m50s\u001b[0m 290ms/step - accuracy: 0.6988 - loss: 0.8679\n",
      "Epoch 55/100\n",
      "\u001b[1m171/171\u001b[0m \u001b[32m━━━━━━━━━━━━━━━━━━━━\u001b[0m\u001b[37m\u001b[0m \u001b[1m50s\u001b[0m 293ms/step - accuracy: 0.6867 - loss: 0.9174\n",
      "Epoch 56/100\n",
      "\u001b[1m171/171\u001b[0m \u001b[32m━━━━━━━━━━━━━━━━━━━━\u001b[0m\u001b[37m\u001b[0m \u001b[1m55s\u001b[0m 320ms/step - accuracy: 0.6902 - loss: 0.8963\n",
      "Epoch 57/100\n",
      "\u001b[1m171/171\u001b[0m \u001b[32m━━━━━━━━━━━━━━━━━━━━\u001b[0m\u001b[37m\u001b[0m \u001b[1m54s\u001b[0m 317ms/step - accuracy: 0.6903 - loss: 0.9802\n",
      "Epoch 58/100\n",
      "\u001b[1m171/171\u001b[0m \u001b[32m━━━━━━━━━━━━━━━━━━━━\u001b[0m\u001b[37m\u001b[0m \u001b[1m55s\u001b[0m 319ms/step - accuracy: 0.7042 - loss: 0.8432\n",
      "Epoch 59/100\n",
      "\u001b[1m171/171\u001b[0m \u001b[32m━━━━━━━━━━━━━━━━━━━━\u001b[0m\u001b[37m\u001b[0m \u001b[1m56s\u001b[0m 326ms/step - accuracy: 0.7008 - loss: 0.8624\n",
      "Epoch 60/100\n",
      "\u001b[1m171/171\u001b[0m \u001b[32m━━━━━━━━━━━━━━━━━━━━\u001b[0m\u001b[37m\u001b[0m \u001b[1m52s\u001b[0m 306ms/step - accuracy: 0.6606 - loss: 1.0316\n",
      "Epoch 61/100\n",
      "\u001b[1m171/171\u001b[0m \u001b[32m━━━━━━━━━━━━━━━━━━━━\u001b[0m\u001b[37m\u001b[0m \u001b[1m54s\u001b[0m 315ms/step - accuracy: 0.7056 - loss: 0.8352\n",
      "Epoch 62/100\n",
      "\u001b[1m171/171\u001b[0m \u001b[32m━━━━━━━━━━━━━━━━━━━━\u001b[0m\u001b[37m\u001b[0m \u001b[1m53s\u001b[0m 311ms/step - accuracy: 0.7096 - loss: 0.8183\n",
      "Epoch 63/100\n",
      "\u001b[1m171/171\u001b[0m \u001b[32m━━━━━━━━━━━━━━━━━━━━\u001b[0m\u001b[37m\u001b[0m \u001b[1m53s\u001b[0m 308ms/step - accuracy: 0.6712 - loss: 1.0351\n",
      "Epoch 64/100\n",
      "\u001b[1m171/171\u001b[0m \u001b[32m━━━━━━━━━━━━━━━━━━━━\u001b[0m\u001b[37m\u001b[0m \u001b[1m55s\u001b[0m 320ms/step - accuracy: 0.6970 - loss: 0.8713\n",
      "Epoch 65/100\n",
      "\u001b[1m171/171\u001b[0m \u001b[32m━━━━━━━━━━━━━━━━━━━━\u001b[0m\u001b[37m\u001b[0m \u001b[1m52s\u001b[0m 306ms/step - accuracy: 0.6840 - loss: 0.9282\n",
      "Epoch 66/100\n",
      "\u001b[1m171/171\u001b[0m \u001b[32m━━━━━━━━━━━━━━━━━━━━\u001b[0m\u001b[37m\u001b[0m \u001b[1m52s\u001b[0m 304ms/step - accuracy: 0.6952 - loss: 0.8716\n",
      "Epoch 67/100\n",
      "\u001b[1m171/171\u001b[0m \u001b[32m━━━━━━━━━━━━━━━━━━━━\u001b[0m\u001b[37m\u001b[0m \u001b[1m52s\u001b[0m 304ms/step - accuracy: 0.7024 - loss: 0.8646\n",
      "Epoch 68/100\n",
      "\u001b[1m171/171\u001b[0m \u001b[32m━━━━━━━━━━━━━━━━━━━━\u001b[0m\u001b[37m\u001b[0m \u001b[1m51s\u001b[0m 298ms/step - accuracy: 0.7143 - loss: 0.7970\n",
      "Epoch 69/100\n",
      "\u001b[1m171/171\u001b[0m \u001b[32m━━━━━━━━━━━━━━━━━━━━\u001b[0m\u001b[37m\u001b[0m \u001b[1m56s\u001b[0m 326ms/step - accuracy: 0.7144 - loss: 0.8179\n",
      "Epoch 70/100\n",
      "\u001b[1m171/171\u001b[0m \u001b[32m━━━━━━━━━━━━━━━━━━━━\u001b[0m\u001b[37m\u001b[0m \u001b[1m56s\u001b[0m 325ms/step - accuracy: 0.6457 - loss: 1.6945\n",
      "Epoch 71/100\n",
      "\u001b[1m171/171\u001b[0m \u001b[32m━━━━━━━━━━━━━━━━━━━━\u001b[0m\u001b[37m\u001b[0m \u001b[1m56s\u001b[0m 330ms/step - accuracy: 0.6914 - loss: 0.8722\n",
      "Epoch 72/100\n",
      "\u001b[1m171/171\u001b[0m \u001b[32m━━━━━━━━━━━━━━━━━━━━\u001b[0m\u001b[37m\u001b[0m \u001b[1m56s\u001b[0m 328ms/step - accuracy: 0.7080 - loss: 0.8120\n",
      "Epoch 73/100\n",
      "\u001b[1m171/171\u001b[0m \u001b[32m━━━━━━━━━━━━━━━━━━━━\u001b[0m\u001b[37m\u001b[0m \u001b[1m58s\u001b[0m 337ms/step - accuracy: 0.7077 - loss: 0.8234\n",
      "Epoch 74/100\n",
      "\u001b[1m171/171\u001b[0m \u001b[32m━━━━━━━━━━━━━━━━━━━━\u001b[0m\u001b[37m\u001b[0m \u001b[1m58s\u001b[0m 337ms/step - accuracy: 0.6968 - loss: 0.8690\n",
      "Epoch 75/100\n",
      "\u001b[1m171/171\u001b[0m \u001b[32m━━━━━━━━━━━━━━━━━━━━\u001b[0m\u001b[37m\u001b[0m \u001b[1m56s\u001b[0m 330ms/step - accuracy: 0.7134 - loss: 0.7921\n",
      "Epoch 76/100\n",
      "\u001b[1m171/171\u001b[0m \u001b[32m━━━━━━━━━━━━━━━━━━━━\u001b[0m\u001b[37m\u001b[0m \u001b[1m56s\u001b[0m 327ms/step - accuracy: 0.6955 - loss: 0.8763\n",
      "Epoch 77/100\n",
      "\u001b[1m171/171\u001b[0m \u001b[32m━━━━━━━━━━━━━━━━━━━━\u001b[0m\u001b[37m\u001b[0m \u001b[1m57s\u001b[0m 335ms/step - accuracy: 0.7110 - loss: 0.8153\n",
      "Epoch 78/100\n",
      "\u001b[1m171/171\u001b[0m \u001b[32m━━━━━━━━━━━━━━━━━━━━\u001b[0m\u001b[37m\u001b[0m \u001b[1m66s\u001b[0m 384ms/step - accuracy: 0.7080 - loss: 0.8128\n",
      "Epoch 79/100\n",
      "\u001b[1m171/171\u001b[0m \u001b[32m━━━━━━━━━━━━━━━━━━━━\u001b[0m\u001b[37m\u001b[0m \u001b[1m67s\u001b[0m 389ms/step - accuracy: 0.7183 - loss: 0.7726\n",
      "Epoch 80/100\n",
      "\u001b[1m171/171\u001b[0m \u001b[32m━━━━━━━━━━━━━━━━━━━━\u001b[0m\u001b[37m\u001b[0m \u001b[1m59s\u001b[0m 345ms/step - accuracy: 0.7041 - loss: 0.8464\n",
      "Epoch 81/100\n",
      "\u001b[1m171/171\u001b[0m \u001b[32m━━━━━━━━━━━━━━━━━━━━\u001b[0m\u001b[37m\u001b[0m \u001b[1m58s\u001b[0m 337ms/step - accuracy: 0.7175 - loss: 0.7791\n",
      "Epoch 82/100\n",
      "\u001b[1m171/171\u001b[0m \u001b[32m━━━━━━━━━━━━━━━━━━━━\u001b[0m\u001b[37m\u001b[0m \u001b[1m58s\u001b[0m 341ms/step - accuracy: 0.7193 - loss: 0.7668\n",
      "Epoch 83/100\n",
      "\u001b[1m171/171\u001b[0m \u001b[32m━━━━━━━━━━━━━━━━━━━━\u001b[0m\u001b[37m\u001b[0m \u001b[1m60s\u001b[0m 351ms/step - accuracy: 0.7114 - loss: 0.7993\n",
      "Epoch 84/100\n",
      "\u001b[1m171/171\u001b[0m \u001b[32m━━━━━━━━━━━━━━━━━━━━\u001b[0m\u001b[37m\u001b[0m \u001b[1m61s\u001b[0m 356ms/step - accuracy: 0.6918 - loss: 0.9202\n",
      "Epoch 85/100\n",
      "\u001b[1m171/171\u001b[0m \u001b[32m━━━━━━━━━━━━━━━━━━━━\u001b[0m\u001b[37m\u001b[0m \u001b[1m60s\u001b[0m 349ms/step - accuracy: 0.7009 - loss: 0.8533\n",
      "Epoch 86/100\n",
      "\u001b[1m171/171\u001b[0m \u001b[32m━━━━━━━━━━━━━━━━━━━━\u001b[0m\u001b[37m\u001b[0m \u001b[1m59s\u001b[0m 347ms/step - accuracy: 0.7054 - loss: 0.8279\n",
      "Epoch 87/100\n",
      "\u001b[1m171/171\u001b[0m \u001b[32m━━━━━━━━━━━━━━━━━━━━\u001b[0m\u001b[37m\u001b[0m \u001b[1m58s\u001b[0m 340ms/step - accuracy: 0.7156 - loss: 0.7834\n",
      "Epoch 88/100\n",
      "\u001b[1m171/171\u001b[0m \u001b[32m━━━━━━━━━━━━━━━━━━━━\u001b[0m\u001b[37m\u001b[0m \u001b[1m60s\u001b[0m 351ms/step - accuracy: 0.7052 - loss: 0.8339\n",
      "Epoch 89/100\n",
      "\u001b[1m171/171\u001b[0m \u001b[32m━━━━━━━━━━━━━━━━━━━━\u001b[0m\u001b[37m\u001b[0m \u001b[1m59s\u001b[0m 346ms/step - accuracy: 0.7194 - loss: 0.7644\n",
      "Epoch 90/100\n",
      "\u001b[1m171/171\u001b[0m \u001b[32m━━━━━━━━━━━━━━━━━━━━\u001b[0m\u001b[37m\u001b[0m \u001b[1m59s\u001b[0m 345ms/step - accuracy: 0.7070 - loss: 0.8225\n",
      "Epoch 91/100\n",
      "\u001b[1m171/171\u001b[0m \u001b[32m━━━━━━━━━━━━━━━━━━━━\u001b[0m\u001b[37m\u001b[0m \u001b[1m58s\u001b[0m 336ms/step - accuracy: 0.7170 - loss: 0.7742\n",
      "Epoch 92/100\n",
      "\u001b[1m171/171\u001b[0m \u001b[32m━━━━━━━━━━━━━━━━━━━━\u001b[0m\u001b[37m\u001b[0m \u001b[1m60s\u001b[0m 352ms/step - accuracy: 0.6934 - loss: 0.9613\n",
      "Epoch 93/100\n",
      "\u001b[1m171/171\u001b[0m \u001b[32m━━━━━━━━━━━━━━━━━━━━\u001b[0m\u001b[37m\u001b[0m \u001b[1m60s\u001b[0m 350ms/step - accuracy: 0.7151 - loss: 0.7878\n",
      "Epoch 94/100\n",
      "\u001b[1m171/171\u001b[0m \u001b[32m━━━━━━━━━━━━━━━━━━━━\u001b[0m\u001b[37m\u001b[0m \u001b[1m61s\u001b[0m 355ms/step - accuracy: 0.7144 - loss: 0.7799\n",
      "Epoch 95/100\n",
      "\u001b[1m171/171\u001b[0m \u001b[32m━━━━━━━━━━━━━━━━━━━━\u001b[0m\u001b[37m\u001b[0m \u001b[1m60s\u001b[0m 347ms/step - accuracy: 0.7084 - loss: 0.8207\n",
      "Epoch 96/100\n",
      "\u001b[1m171/171\u001b[0m \u001b[32m━━━━━━━━━━━━━━━━━━━━\u001b[0m\u001b[37m\u001b[0m \u001b[1m59s\u001b[0m 347ms/step - accuracy: 0.7160 - loss: 0.7755\n",
      "Epoch 97/100\n",
      "\u001b[1m171/171\u001b[0m \u001b[32m━━━━━━━━━━━━━━━━━━━━\u001b[0m\u001b[37m\u001b[0m \u001b[1m58s\u001b[0m 337ms/step - accuracy: 0.7101 - loss: 0.8115\n",
      "Epoch 98/100\n",
      "\u001b[1m171/171\u001b[0m \u001b[32m━━━━━━━━━━━━━━━━━━━━\u001b[0m\u001b[37m\u001b[0m \u001b[1m59s\u001b[0m 343ms/step - accuracy: 0.7158 - loss: 0.7903\n",
      "Epoch 99/100\n",
      "\u001b[1m171/171\u001b[0m \u001b[32m━━━━━━━━━━━━━━━━━━━━\u001b[0m\u001b[37m\u001b[0m \u001b[1m58s\u001b[0m 340ms/step - accuracy: 0.7068 - loss: 0.8106\n",
      "Epoch 100/100\n",
      "\u001b[1m171/171\u001b[0m \u001b[32m━━━━━━━━━━━━━━━━━━━━\u001b[0m\u001b[37m\u001b[0m \u001b[1m55s\u001b[0m 321ms/step - accuracy: 0.7235 - loss: 0.7387\n"
     ]
    },
    {
     "data": {
      "text/plain": [
       "<keras.src.callbacks.history.History at 0x265dc620b80>"
      ]
     },
     "execution_count": 16,
     "metadata": {},
     "output_type": "execute_result"
    }
   ],
   "source": [
    "nn_class.fit(train_dataset, epochs=epoch_no)"
   ]
  },
  {
   "cell_type": "markdown",
   "id": "ec297cc3",
   "metadata": {},
   "source": [
    "## Neural Network Regressor"
   ]
  },
  {
   "cell_type": "code",
   "execution_count": 21,
   "id": "bd76a6bd",
   "metadata": {},
   "outputs": [],
   "source": [
    "input_dim   = x.shape[1]\n",
    "\n",
    "n_neurons_1 = 70\n",
    "n_neurons_2 = 70\n",
    "n_neurons_3 = 70\n",
    "\n",
    "output_dim  = 1\n",
    "\n",
    "epoch_no    = 100\n",
    "batch_size  = 512"
   ]
  },
  {
   "cell_type": "code",
   "execution_count": 22,
   "id": "d54ada0f",
   "metadata": {},
   "outputs": [],
   "source": [
    "# Define generator for training data\n",
    "def train_generator():\n",
    "    for i in range(x_train.shape[0]):\n",
    "        yield x_train[i].toarray()[0].astype(np.float32), y_train[i]\n",
    "\n",
    "# Define generator for testing data\n",
    "def test_generator():\n",
    "    for i in range(x_test.shape[0]):\n",
    "        yield x_test[i].toarray()[0].astype(np.float32), y_test[i]"
   ]
  },
  {
   "cell_type": "code",
   "execution_count": 23,
   "id": "313b1938",
   "metadata": {},
   "outputs": [],
   "source": [
    "# TensorFlow Datasets from generators\n",
    "train_dataset = tf.data.Dataset.from_generator(\n",
    "    train_generator,\n",
    "    output_signature=(\n",
    "        tf.TensorSpec(shape=(x_train.shape[1],), dtype=tf.float32),\n",
    "        tf.TensorSpec(shape=(), dtype=tf.int64),\n",
    "    )\n",
    ").batch(batch_size).prefetch(tf.data.AUTOTUNE)\n",
    "\n",
    "test_dataset = tf.data.Dataset.from_generator(\n",
    "    test_generator,\n",
    "    output_signature=(\n",
    "        tf.TensorSpec(shape=(x_test.shape[1],), dtype=tf.float32),\n",
    "        tf.TensorSpec(shape=(), dtype=tf.int64),\n",
    "    )\n",
    ").batch(batch_size).prefetch(tf.data.AUTOTUNE)"
   ]
  },
  {
   "cell_type": "code",
   "execution_count": 24,
   "id": "12b7a60a",
   "metadata": {},
   "outputs": [],
   "source": [
    "# Add layers and activation function to neural network\n",
    "nn_reg    = tf.keras.Sequential()\n",
    "\n",
    "nn_reg.add(Input(shape=(input_dim,)))\n",
    "nn_reg.add(Dense(n_neurons_1, activation='relu'))\n",
    "nn_reg.add(Dense(n_neurons_2, activation='relu'))\n",
    "nn_reg.add(Dense(n_neurons_3, activation='relu'))\n",
    "nn_reg.add(Dense(output_dim, activation='linear'))\n",
    "\n",
    "# Configure loss function, gradient descent, and evaluation metrics\n",
    "nn_reg.compile(\n",
    "    optimizer=Adam(learning_rate=0.001),\n",
    "    loss=MeanSquaredError(),\n",
    "    metrics=[\"mae\"]\n",
    ")"
   ]
  },
  {
   "cell_type": "code",
   "execution_count": 26,
   "id": "31624ce8",
   "metadata": {},
   "outputs": [
    {
     "name": "stdout",
     "output_type": "stream",
     "text": [
      "Epoch 1/100\n"
     ]
    },
    {
     "name": "stdout",
     "output_type": "stream",
     "text": [
      "\u001b[1m171/171\u001b[0m \u001b[32m━━━━━━━━━━━━━━━━━━━━\u001b[0m\u001b[37m\u001b[0m \u001b[1m55s\u001b[0m 320ms/step - loss: 1.4228 - mae: 0.9697\n",
      "Epoch 2/100\n"
     ]
    },
    {
     "name": "stderr",
     "output_type": "stream",
     "text": [
      "c:\\Users\\Cyrus\\anaconda3\\envs\\tfenv\\lib\\site-packages\\keras\\src\\trainers\\epoch_iterator.py:151: UserWarning: Your input ran out of data; interrupting training. Make sure that your dataset or generator can generate at least `steps_per_epoch * epochs` batches. You may need to use the `.repeat()` function when building your dataset.\n",
      "  self._interrupted_warning()\n"
     ]
    },
    {
     "name": "stdout",
     "output_type": "stream",
     "text": [
      "\u001b[1m171/171\u001b[0m \u001b[32m━━━━━━━━━━━━━━━━━━━━\u001b[0m\u001b[37m\u001b[0m \u001b[1m53s\u001b[0m 310ms/step - loss: 1.3411 - mae: 0.9299\n",
      "Epoch 3/100\n",
      "\u001b[1m171/171\u001b[0m \u001b[32m━━━━━━━━━━━━━━━━━━━━\u001b[0m\u001b[37m\u001b[0m \u001b[1m53s\u001b[0m 307ms/step - loss: 1.2792 - mae: 0.8993\n",
      "Epoch 4/100\n",
      "\u001b[1m171/171\u001b[0m \u001b[32m━━━━━━━━━━━━━━━━━━━━\u001b[0m\u001b[37m\u001b[0m \u001b[1m55s\u001b[0m 321ms/step - loss: 1.3241 - mae: 0.8932\n",
      "Epoch 5/100\n",
      "\u001b[1m171/171\u001b[0m \u001b[32m━━━━━━━━━━━━━━━━━━━━\u001b[0m\u001b[37m\u001b[0m \u001b[1m55s\u001b[0m 323ms/step - loss: 1.2185 - mae: 0.8424\n",
      "Epoch 6/100\n",
      "\u001b[1m171/171\u001b[0m \u001b[32m━━━━━━━━━━━━━━━━━━━━\u001b[0m\u001b[37m\u001b[0m \u001b[1m56s\u001b[0m 329ms/step - loss: 1.7877 - mae: 0.9593\n",
      "Epoch 7/100\n",
      "\u001b[1m171/171\u001b[0m \u001b[32m━━━━━━━━━━━━━━━━━━━━\u001b[0m\u001b[37m\u001b[0m \u001b[1m56s\u001b[0m 324ms/step - loss: 1.0150 - mae: 0.7743\n",
      "Epoch 8/100\n",
      "\u001b[1m171/171\u001b[0m \u001b[32m━━━━━━━━━━━━━━━━━━━━\u001b[0m\u001b[37m\u001b[0m \u001b[1m54s\u001b[0m 316ms/step - loss: 0.9348 - mae: 0.7264\n",
      "Epoch 9/100\n",
      "\u001b[1m171/171\u001b[0m \u001b[32m━━━━━━━━━━━━━━━━━━━━\u001b[0m\u001b[37m\u001b[0m \u001b[1m59s\u001b[0m 347ms/step - loss: 0.9257 - mae: 0.7229\n",
      "Epoch 10/100\n",
      "\u001b[1m171/171\u001b[0m \u001b[32m━━━━━━━━━━━━━━━━━━━━\u001b[0m\u001b[37m\u001b[0m \u001b[1m55s\u001b[0m 323ms/step - loss: 0.9487 - mae: 0.7347\n",
      "Epoch 11/100\n",
      "\u001b[1m171/171\u001b[0m \u001b[32m━━━━━━━━━━━━━━━━━━━━\u001b[0m\u001b[37m\u001b[0m \u001b[1m55s\u001b[0m 321ms/step - loss: 0.9589 - mae: 0.7365\n",
      "Epoch 12/100\n",
      "\u001b[1m171/171\u001b[0m \u001b[32m━━━━━━━━━━━━━━━━━━━━\u001b[0m\u001b[37m\u001b[0m \u001b[1m60s\u001b[0m 354ms/step - loss: 0.9343 - mae: 0.7271\n",
      "Epoch 13/100\n",
      "\u001b[1m171/171\u001b[0m \u001b[32m━━━━━━━━━━━━━━━━━━━━\u001b[0m\u001b[37m\u001b[0m \u001b[1m52s\u001b[0m 306ms/step - loss: 0.9321 - mae: 0.7253\n",
      "Epoch 14/100\n",
      "\u001b[1m171/171\u001b[0m \u001b[32m━━━━━━━━━━━━━━━━━━━━\u001b[0m\u001b[37m\u001b[0m \u001b[1m51s\u001b[0m 300ms/step - loss: 0.9128 - mae: 0.7175\n",
      "Epoch 15/100\n",
      "\u001b[1m171/171\u001b[0m \u001b[32m━━━━━━━━━━━━━━━━━━━━\u001b[0m\u001b[37m\u001b[0m \u001b[1m52s\u001b[0m 305ms/step - loss: 3.0494 - mae: 1.0446\n",
      "Epoch 16/100\n",
      "\u001b[1m171/171\u001b[0m \u001b[32m━━━━━━━━━━━━━━━━━━━━\u001b[0m\u001b[37m\u001b[0m \u001b[1m55s\u001b[0m 324ms/step - loss: 1.6008 - mae: 0.9872\n",
      "Epoch 17/100\n",
      "\u001b[1m171/171\u001b[0m \u001b[32m━━━━━━━━━━━━━━━━━━━━\u001b[0m\u001b[37m\u001b[0m \u001b[1m51s\u001b[0m 301ms/step - loss: 1.0464 - mae: 0.8037\n",
      "Epoch 18/100\n",
      "\u001b[1m171/171\u001b[0m \u001b[32m━━━━━━━━━━━━━━━━━━━━\u001b[0m\u001b[37m\u001b[0m \u001b[1m52s\u001b[0m 301ms/step - loss: 1.3447 - mae: 0.8501\n",
      "Epoch 19/100\n",
      "\u001b[1m171/171\u001b[0m \u001b[32m━━━━━━━━━━━━━━━━━━━━\u001b[0m\u001b[37m\u001b[0m \u001b[1m52s\u001b[0m 305ms/step - loss: 0.9610 - mae: 0.7436\n",
      "Epoch 20/100\n",
      "\u001b[1m171/171\u001b[0m \u001b[32m━━━━━━━━━━━━━━━━━━━━\u001b[0m\u001b[37m\u001b[0m \u001b[1m53s\u001b[0m 309ms/step - loss: 0.9163 - mae: 0.7193\n",
      "Epoch 21/100\n",
      "\u001b[1m171/171\u001b[0m \u001b[32m━━━━━━━━━━━━━━━━━━━━\u001b[0m\u001b[37m\u001b[0m \u001b[1m52s\u001b[0m 305ms/step - loss: 0.9090 - mae: 0.7139\n",
      "Epoch 22/100\n",
      "\u001b[1m171/171\u001b[0m \u001b[32m━━━━━━━━━━━━━━━━━━━━\u001b[0m\u001b[37m\u001b[0m \u001b[1m50s\u001b[0m 295ms/step - loss: 0.8625 - mae: 0.6948\n",
      "Epoch 23/100\n",
      "\u001b[1m171/171\u001b[0m \u001b[32m━━━━━━━━━━━━━━━━━━━━\u001b[0m\u001b[37m\u001b[0m \u001b[1m50s\u001b[0m 291ms/step - loss: 0.8916 - mae: 0.7118\n",
      "Epoch 24/100\n",
      "\u001b[1m171/171\u001b[0m \u001b[32m━━━━━━━━━━━━━━━━━━━━\u001b[0m\u001b[37m\u001b[0m \u001b[1m50s\u001b[0m 294ms/step - loss: 0.8550 - mae: 0.6898\n",
      "Epoch 25/100\n",
      "\u001b[1m171/171\u001b[0m \u001b[32m━━━━━━━━━━━━━━━━━━━━\u001b[0m\u001b[37m\u001b[0m \u001b[1m49s\u001b[0m 289ms/step - loss: 1.3039 - mae: 0.8516\n",
      "Epoch 26/100\n",
      "\u001b[1m171/171\u001b[0m \u001b[32m━━━━━━━━━━━━━━━━━━━━\u001b[0m\u001b[37m\u001b[0m \u001b[1m51s\u001b[0m 295ms/step - loss: 0.8357 - mae: 0.6839\n",
      "Epoch 27/100\n",
      "\u001b[1m171/171\u001b[0m \u001b[32m━━━━━━━━━━━━━━━━━━━━\u001b[0m\u001b[37m\u001b[0m \u001b[1m50s\u001b[0m 290ms/step - loss: 0.8869 - mae: 0.7111\n",
      "Epoch 28/100\n",
      "\u001b[1m171/171\u001b[0m \u001b[32m━━━━━━━━━━━━━━━━━━━━\u001b[0m\u001b[37m\u001b[0m \u001b[1m51s\u001b[0m 295ms/step - loss: 0.8309 - mae: 0.6833\n",
      "Epoch 29/100\n",
      "\u001b[1m171/171\u001b[0m \u001b[32m━━━━━━━━━━━━━━━━━━━━\u001b[0m\u001b[37m\u001b[0m \u001b[1m51s\u001b[0m 295ms/step - loss: 0.8556 - mae: 0.6967\n",
      "Epoch 30/100\n",
      "\u001b[1m171/171\u001b[0m \u001b[32m━━━━━━━━━━━━━━━━━━━━\u001b[0m\u001b[37m\u001b[0m \u001b[1m50s\u001b[0m 290ms/step - loss: 0.9493 - mae: 0.7210\n",
      "Epoch 31/100\n",
      "\u001b[1m171/171\u001b[0m \u001b[32m━━━━━━━━━━━━━━━━━━━━\u001b[0m\u001b[37m\u001b[0m \u001b[1m50s\u001b[0m 295ms/step - loss: 0.8135 - mae: 0.6842\n",
      "Epoch 32/100\n",
      "\u001b[1m171/171\u001b[0m \u001b[32m━━━━━━━━━━━━━━━━━━━━\u001b[0m\u001b[37m\u001b[0m \u001b[1m50s\u001b[0m 293ms/step - loss: 0.8649 - mae: 0.7013\n",
      "Epoch 33/100\n",
      "\u001b[1m171/171\u001b[0m \u001b[32m━━━━━━━━━━━━━━━━━━━━\u001b[0m\u001b[37m\u001b[0m \u001b[1m51s\u001b[0m 300ms/step - loss: 0.7919 - mae: 0.6723\n",
      "Epoch 34/100\n",
      "\u001b[1m171/171\u001b[0m \u001b[32m━━━━━━━━━━━━━━━━━━━━\u001b[0m\u001b[37m\u001b[0m \u001b[1m50s\u001b[0m 293ms/step - loss: 0.7953 - mae: 0.6701\n",
      "Epoch 35/100\n",
      "\u001b[1m171/171\u001b[0m \u001b[32m━━━━━━━━━━━━━━━━━━━━\u001b[0m\u001b[37m\u001b[0m \u001b[1m50s\u001b[0m 291ms/step - loss: 0.8052 - mae: 0.6806\n",
      "Epoch 36/100\n",
      "\u001b[1m171/171\u001b[0m \u001b[32m━━━━━━━━━━━━━━━━━━━━\u001b[0m\u001b[37m\u001b[0m \u001b[1m50s\u001b[0m 289ms/step - loss: 0.7781 - mae: 0.6617\n",
      "Epoch 37/100\n",
      "\u001b[1m171/171\u001b[0m \u001b[32m━━━━━━━━━━━━━━━━━━━━\u001b[0m\u001b[37m\u001b[0m \u001b[1m50s\u001b[0m 292ms/step - loss: 0.7745 - mae: 0.6617\n",
      "Epoch 38/100\n",
      "\u001b[1m171/171\u001b[0m \u001b[32m━━━━━━━━━━━━━━━━━━━━\u001b[0m\u001b[37m\u001b[0m \u001b[1m51s\u001b[0m 296ms/step - loss: 0.7795 - mae: 0.6647\n",
      "Epoch 39/100\n",
      "\u001b[1m171/171\u001b[0m \u001b[32m━━━━━━━━━━━━━━━━━━━━\u001b[0m\u001b[37m\u001b[0m \u001b[1m51s\u001b[0m 298ms/step - loss: 0.7559 - mae: 0.6558\n",
      "Epoch 40/100\n",
      "\u001b[1m171/171\u001b[0m \u001b[32m━━━━━━━━━━━━━━━━━━━━\u001b[0m\u001b[37m\u001b[0m \u001b[1m51s\u001b[0m 296ms/step - loss: 0.7893 - mae: 0.6722\n",
      "Epoch 41/100\n",
      "\u001b[1m171/171\u001b[0m \u001b[32m━━━━━━━━━━━━━━━━━━━━\u001b[0m\u001b[37m\u001b[0m \u001b[1m50s\u001b[0m 291ms/step - loss: 0.7976 - mae: 0.6764\n",
      "Epoch 42/100\n",
      "\u001b[1m171/171\u001b[0m \u001b[32m━━━━━━━━━━━━━━━━━━━━\u001b[0m\u001b[37m\u001b[0m \u001b[1m50s\u001b[0m 291ms/step - loss: 0.7984 - mae: 0.6766\n",
      "Epoch 43/100\n",
      "\u001b[1m171/171\u001b[0m \u001b[32m━━━━━━━━━━━━━━━━━━━━\u001b[0m\u001b[37m\u001b[0m \u001b[1m50s\u001b[0m 293ms/step - loss: 0.7725 - mae: 0.6632\n",
      "Epoch 44/100\n",
      "\u001b[1m171/171\u001b[0m \u001b[32m━━━━━━━━━━━━━━━━━━━━\u001b[0m\u001b[37m\u001b[0m \u001b[1m47s\u001b[0m 272ms/step - loss: 0.7493 - mae: 0.6458\n",
      "Epoch 45/100\n",
      "\u001b[1m171/171\u001b[0m \u001b[32m━━━━━━━━━━━━━━━━━━━━\u001b[0m\u001b[37m\u001b[0m \u001b[1m43s\u001b[0m 250ms/step - loss: 0.7559 - mae: 0.6535\n",
      "Epoch 46/100\n",
      "\u001b[1m171/171\u001b[0m \u001b[32m━━━━━━━━━━━━━━━━━━━━\u001b[0m\u001b[37m\u001b[0m \u001b[1m44s\u001b[0m 255ms/step - loss: 0.7492 - mae: 0.6472\n",
      "Epoch 47/100\n",
      "\u001b[1m171/171\u001b[0m \u001b[32m━━━━━━━━━━━━━━━━━━━━\u001b[0m\u001b[37m\u001b[0m \u001b[1m43s\u001b[0m 254ms/step - loss: 0.7418 - mae: 0.6484\n",
      "Epoch 48/100\n",
      "\u001b[1m171/171\u001b[0m \u001b[32m━━━━━━━━━━━━━━━━━━━━\u001b[0m\u001b[37m\u001b[0m \u001b[1m44s\u001b[0m 256ms/step - loss: 0.9933 - mae: 0.7145\n",
      "Epoch 49/100\n",
      "\u001b[1m171/171\u001b[0m \u001b[32m━━━━━━━━━━━━━━━━━━━━\u001b[0m\u001b[37m\u001b[0m \u001b[1m44s\u001b[0m 255ms/step - loss: 0.8064 - mae: 0.6843\n",
      "Epoch 50/100\n",
      "\u001b[1m171/171\u001b[0m \u001b[32m━━━━━━━━━━━━━━━━━━━━\u001b[0m\u001b[37m\u001b[0m \u001b[1m44s\u001b[0m 256ms/step - loss: 0.7319 - mae: 0.6420\n",
      "Epoch 51/100\n",
      "\u001b[1m171/171\u001b[0m \u001b[32m━━━━━━━━━━━━━━━━━━━━\u001b[0m\u001b[37m\u001b[0m \u001b[1m43s\u001b[0m 253ms/step - loss: 0.7252 - mae: 0.6359\n",
      "Epoch 52/100\n",
      "\u001b[1m171/171\u001b[0m \u001b[32m━━━━━━━━━━━━━━━━━━━━\u001b[0m\u001b[37m\u001b[0m \u001b[1m44s\u001b[0m 256ms/step - loss: 0.7318 - mae: 0.6398\n",
      "Epoch 53/100\n",
      "\u001b[1m171/171\u001b[0m \u001b[32m━━━━━━━━━━━━━━━━━━━━\u001b[0m\u001b[37m\u001b[0m \u001b[1m44s\u001b[0m 255ms/step - loss: 0.7283 - mae: 0.6374\n",
      "Epoch 54/100\n",
      "\u001b[1m171/171\u001b[0m \u001b[32m━━━━━━━━━━━━━━━━━━━━\u001b[0m\u001b[37m\u001b[0m \u001b[1m44s\u001b[0m 259ms/step - loss: 0.7243 - mae: 0.6347\n",
      "Epoch 55/100\n",
      "\u001b[1m171/171\u001b[0m \u001b[32m━━━━━━━━━━━━━━━━━━━━\u001b[0m\u001b[37m\u001b[0m \u001b[1m44s\u001b[0m 257ms/step - loss: 0.7192 - mae: 0.6322\n",
      "Epoch 56/100\n",
      "\u001b[1m171/171\u001b[0m \u001b[32m━━━━━━━━━━━━━━━━━━━━\u001b[0m\u001b[37m\u001b[0m \u001b[1m45s\u001b[0m 261ms/step - loss: 0.7376 - mae: 0.6410\n",
      "Epoch 57/100\n",
      "\u001b[1m171/171\u001b[0m \u001b[32m━━━━━━━━━━━━━━━━━━━━\u001b[0m\u001b[37m\u001b[0m \u001b[1m46s\u001b[0m 269ms/step - loss: 0.7198 - mae: 0.6386\n",
      "Epoch 58/100\n",
      "\u001b[1m171/171\u001b[0m \u001b[32m━━━━━━━━━━━━━━━━━━━━\u001b[0m\u001b[37m\u001b[0m \u001b[1m45s\u001b[0m 261ms/step - loss: 0.7068 - mae: 0.6288\n",
      "Epoch 59/100\n",
      "\u001b[1m171/171\u001b[0m \u001b[32m━━━━━━━━━━━━━━━━━━━━\u001b[0m\u001b[37m\u001b[0m \u001b[1m43s\u001b[0m 250ms/step - loss: 0.6975 - mae: 0.6210\n",
      "Epoch 60/100\n",
      "\u001b[1m171/171\u001b[0m \u001b[32m━━━━━━━━━━━━━━━━━━━━\u001b[0m\u001b[37m\u001b[0m \u001b[1m43s\u001b[0m 251ms/step - loss: 0.7419 - mae: 0.6445\n",
      "Epoch 61/100\n",
      "\u001b[1m171/171\u001b[0m \u001b[32m━━━━━━━━━━━━━━━━━━━━\u001b[0m\u001b[37m\u001b[0m \u001b[1m42s\u001b[0m 245ms/step - loss: 0.7019 - mae: 0.6228\n",
      "Epoch 62/100\n",
      "\u001b[1m171/171\u001b[0m \u001b[32m━━━━━━━━━━━━━━━━━━━━\u001b[0m\u001b[37m\u001b[0m \u001b[1m43s\u001b[0m 249ms/step - loss: 0.7302 - mae: 0.6373\n",
      "Epoch 63/100\n",
      "\u001b[1m171/171\u001b[0m \u001b[32m━━━━━━━━━━━━━━━━━━━━\u001b[0m\u001b[37m\u001b[0m \u001b[1m43s\u001b[0m 249ms/step - loss: 4.7152 - mae: 1.3481\n",
      "Epoch 64/100\n",
      "\u001b[1m171/171\u001b[0m \u001b[32m━━━━━━━━━━━━━━━━━━━━\u001b[0m\u001b[37m\u001b[0m \u001b[1m43s\u001b[0m 249ms/step - loss: 0.6999 - mae: 0.6266\n",
      "Epoch 65/100\n",
      "\u001b[1m171/171\u001b[0m \u001b[32m━━━━━━━━━━━━━━━━━━━━\u001b[0m\u001b[37m\u001b[0m \u001b[1m44s\u001b[0m 260ms/step - loss: 0.6975 - mae: 0.6236\n",
      "Epoch 66/100\n",
      "\u001b[1m171/171\u001b[0m \u001b[32m━━━━━━━━━━━━━━━━━━━━\u001b[0m\u001b[37m\u001b[0m \u001b[1m44s\u001b[0m 257ms/step - loss: 0.6768 - mae: 0.6118\n",
      "Epoch 67/100\n",
      "\u001b[1m171/171\u001b[0m \u001b[32m━━━━━━━━━━━━━━━━━━━━\u001b[0m\u001b[37m\u001b[0m \u001b[1m44s\u001b[0m 254ms/step - loss: 0.6767 - mae: 0.6118\n",
      "Epoch 68/100\n",
      "\u001b[1m171/171\u001b[0m \u001b[32m━━━━━━━━━━━━━━━━━━━━\u001b[0m\u001b[37m\u001b[0m \u001b[1m44s\u001b[0m 255ms/step - loss: 0.6640 - mae: 0.6039\n",
      "Epoch 69/100\n",
      "\u001b[1m171/171\u001b[0m \u001b[32m━━━━━━━━━━━━━━━━━━━━\u001b[0m\u001b[37m\u001b[0m \u001b[1m44s\u001b[0m 254ms/step - loss: 0.6761 - mae: 0.6044\n",
      "Epoch 70/100\n",
      "\u001b[1m171/171\u001b[0m \u001b[32m━━━━━━━━━━━━━━━━━━━━\u001b[0m\u001b[37m\u001b[0m \u001b[1m45s\u001b[0m 262ms/step - loss: 0.8828 - mae: 0.7124\n",
      "Epoch 71/100\n",
      "\u001b[1m171/171\u001b[0m \u001b[32m━━━━━━━━━━━━━━━━━━━━\u001b[0m\u001b[37m\u001b[0m \u001b[1m44s\u001b[0m 255ms/step - loss: 0.6996 - mae: 0.6190\n",
      "Epoch 72/100\n",
      "\u001b[1m171/171\u001b[0m \u001b[32m━━━━━━━━━━━━━━━━━━━━\u001b[0m\u001b[37m\u001b[0m \u001b[1m44s\u001b[0m 259ms/step - loss: 0.7314 - mae: 0.6355\n",
      "Epoch 73/100\n",
      "\u001b[1m171/171\u001b[0m \u001b[32m━━━━━━━━━━━━━━━━━━━━\u001b[0m\u001b[37m\u001b[0m \u001b[1m43s\u001b[0m 253ms/step - loss: 0.6591 - mae: 0.5985\n",
      "Epoch 74/100\n",
      "\u001b[1m171/171\u001b[0m \u001b[32m━━━━━━━━━━━━━━━━━━━━\u001b[0m\u001b[37m\u001b[0m \u001b[1m45s\u001b[0m 261ms/step - loss: 0.7160 - mae: 0.6267\n",
      "Epoch 75/100\n",
      "\u001b[1m171/171\u001b[0m \u001b[32m━━━━━━━━━━━━━━━━━━━━\u001b[0m\u001b[37m\u001b[0m \u001b[1m43s\u001b[0m 254ms/step - loss: 0.6856 - mae: 0.6126\n",
      "Epoch 76/100\n",
      "\u001b[1m171/171\u001b[0m \u001b[32m━━━━━━━━━━━━━━━━━━━━\u001b[0m\u001b[37m\u001b[0m \u001b[1m44s\u001b[0m 256ms/step - loss: 0.6736 - mae: 0.6012\n",
      "Epoch 77/100\n",
      "\u001b[1m171/171\u001b[0m \u001b[32m━━━━━━━━━━━━━━━━━━━━\u001b[0m\u001b[37m\u001b[0m \u001b[1m43s\u001b[0m 254ms/step - loss: 0.7490 - mae: 0.6378\n",
      "Epoch 78/100\n",
      "\u001b[1m171/171\u001b[0m \u001b[32m━━━━━━━━━━━━━━━━━━━━\u001b[0m\u001b[37m\u001b[0m \u001b[1m44s\u001b[0m 258ms/step - loss: 0.8178 - mae: 0.6734\n",
      "Epoch 79/100\n",
      "\u001b[1m171/171\u001b[0m \u001b[32m━━━━━━━━━━━━━━━━━━━━\u001b[0m\u001b[37m\u001b[0m \u001b[1m43s\u001b[0m 252ms/step - loss: 0.6476 - mae: 0.5839\n",
      "Epoch 80/100\n",
      "\u001b[1m171/171\u001b[0m \u001b[32m━━━━━━━━━━━━━━━━━━━━\u001b[0m\u001b[37m\u001b[0m \u001b[1m44s\u001b[0m 256ms/step - loss: 0.6705 - mae: 0.6049\n",
      "Epoch 81/100\n",
      "\u001b[1m171/171\u001b[0m \u001b[32m━━━━━━━━━━━━━━━━━━━━\u001b[0m\u001b[37m\u001b[0m \u001b[1m43s\u001b[0m 253ms/step - loss: 0.6394 - mae: 0.5907\n",
      "Epoch 82/100\n",
      "\u001b[1m171/171\u001b[0m \u001b[32m━━━━━━━━━━━━━━━━━━━━\u001b[0m\u001b[37m\u001b[0m \u001b[1m44s\u001b[0m 257ms/step - loss: 1.4384 - mae: 0.7523\n",
      "Epoch 83/100\n",
      "\u001b[1m171/171\u001b[0m \u001b[32m━━━━━━━━━━━━━━━━━━━━\u001b[0m\u001b[37m\u001b[0m \u001b[1m43s\u001b[0m 253ms/step - loss: 1.8983 - mae: 1.1102\n",
      "Epoch 84/100\n",
      "\u001b[1m171/171\u001b[0m \u001b[32m━━━━━━━━━━━━━━━━━━━━\u001b[0m\u001b[37m\u001b[0m \u001b[1m44s\u001b[0m 256ms/step - loss: 1.7074 - mae: 1.0626\n",
      "Epoch 85/100\n",
      "\u001b[1m171/171\u001b[0m \u001b[32m━━━━━━━━━━━━━━━━━━━━\u001b[0m\u001b[37m\u001b[0m \u001b[1m44s\u001b[0m 255ms/step - loss: 1.0206 - mae: 0.7954\n",
      "Epoch 86/100\n",
      "\u001b[1m171/171\u001b[0m \u001b[32m━━━━━━━━━━━━━━━━━━━━\u001b[0m\u001b[37m\u001b[0m \u001b[1m44s\u001b[0m 255ms/step - loss: 1.8986 - mae: 1.0598\n",
      "Epoch 87/100\n",
      "\u001b[1m171/171\u001b[0m \u001b[32m━━━━━━━━━━━━━━━━━━━━\u001b[0m\u001b[37m\u001b[0m \u001b[1m44s\u001b[0m 254ms/step - loss: 0.9558 - mae: 0.7336\n",
      "Epoch 88/100\n",
      "\u001b[1m171/171\u001b[0m \u001b[32m━━━━━━━━━━━━━━━━━━━━\u001b[0m\u001b[37m\u001b[0m \u001b[1m44s\u001b[0m 259ms/step - loss: 0.6913 - mae: 0.6284\n",
      "Epoch 89/100\n",
      "\u001b[1m171/171\u001b[0m \u001b[32m━━━━━━━━━━━━━━━━━━━━\u001b[0m\u001b[37m\u001b[0m \u001b[1m44s\u001b[0m 255ms/step - loss: 0.7029 - mae: 0.6190\n",
      "Epoch 90/100\n",
      "\u001b[1m171/171\u001b[0m \u001b[32m━━━━━━━━━━━━━━━━━━━━\u001b[0m\u001b[37m\u001b[0m \u001b[1m45s\u001b[0m 260ms/step - loss: 0.7792 - mae: 0.6606\n",
      "Epoch 91/100\n",
      "\u001b[1m171/171\u001b[0m \u001b[32m━━━━━━━━━━━━━━━━━━━━\u001b[0m\u001b[37m\u001b[0m \u001b[1m44s\u001b[0m 259ms/step - loss: 0.7860 - mae: 0.6553\n",
      "Epoch 92/100\n",
      "\u001b[1m171/171\u001b[0m \u001b[32m━━━━━━━━━━━━━━━━━━━━\u001b[0m\u001b[37m\u001b[0m \u001b[1m44s\u001b[0m 257ms/step - loss: 0.7393 - mae: 0.6368\n",
      "Epoch 93/100\n",
      "\u001b[1m171/171\u001b[0m \u001b[32m━━━━━━━━━━━━━━━━━━━━\u001b[0m\u001b[37m\u001b[0m \u001b[1m44s\u001b[0m 258ms/step - loss: 0.6956 - mae: 0.6174\n",
      "Epoch 94/100\n",
      "\u001b[1m171/171\u001b[0m \u001b[32m━━━━━━━━━━━━━━━━━━━━\u001b[0m\u001b[37m\u001b[0m \u001b[1m44s\u001b[0m 256ms/step - loss: 0.7508 - mae: 0.6455\n",
      "Epoch 95/100\n",
      "\u001b[1m171/171\u001b[0m \u001b[32m━━━━━━━━━━━━━━━━━━━━\u001b[0m\u001b[37m\u001b[0m \u001b[1m44s\u001b[0m 255ms/step - loss: 0.7167 - mae: 0.6297\n",
      "Epoch 96/100\n",
      "\u001b[1m171/171\u001b[0m \u001b[32m━━━━━━━━━━━━━━━━━━━━\u001b[0m\u001b[37m\u001b[0m \u001b[1m44s\u001b[0m 257ms/step - loss: 0.6721 - mae: 0.6070\n",
      "Epoch 97/100\n",
      "\u001b[1m171/171\u001b[0m \u001b[32m━━━━━━━━━━━━━━━━━━━━\u001b[0m\u001b[37m\u001b[0m \u001b[1m44s\u001b[0m 255ms/step - loss: 0.6688 - mae: 0.6043\n",
      "Epoch 98/100\n",
      "\u001b[1m171/171\u001b[0m \u001b[32m━━━━━━━━━━━━━━━━━━━━\u001b[0m\u001b[37m\u001b[0m \u001b[1m44s\u001b[0m 255ms/step - loss: 1.5261 - mae: 0.8916\n",
      "Epoch 99/100\n",
      "\u001b[1m171/171\u001b[0m \u001b[32m━━━━━━━━━━━━━━━━━━━━\u001b[0m\u001b[37m\u001b[0m \u001b[1m44s\u001b[0m 254ms/step - loss: 0.6288 - mae: 0.5829\n",
      "Epoch 100/100\n",
      "\u001b[1m171/171\u001b[0m \u001b[32m━━━━━━━━━━━━━━━━━━━━\u001b[0m\u001b[37m\u001b[0m \u001b[1m45s\u001b[0m 261ms/step - loss: 0.6456 - mae: 0.5810\n"
     ]
    }
   ],
   "source": [
    "reg_loss = nn_reg.fit(train_dataset, epochs=epoch_no)"
   ]
  },
  {
   "cell_type": "markdown",
   "id": "b8c9b312",
   "metadata": {},
   "source": [
    "## Evaluation"
   ]
  },
  {
   "cell_type": "code",
   "execution_count": 28,
   "id": "2d2c058a",
   "metadata": {},
   "outputs": [],
   "source": [
    "import matplotlib.pyplot as plt\n",
    "from sklearn.metrics import classification_report\n",
    "from sklearn.metrics import mean_squared_error\n",
    "from sklearn.metrics import confusion_matrix, ConfusionMatrixDisplay\n",
    "from sklearn.ensemble import RandomForestClassifier, RandomForestRegressor\n",
    "from sklearn.svm import SVC"
   ]
  },
  {
   "cell_type": "code",
   "execution_count": null,
   "id": "b402a42f",
   "metadata": {},
   "outputs": [
    {
     "name": "stdout",
     "output_type": "stream",
     "text": [
      "\u001b[1m652/652\u001b[0m \u001b[32m━━━━━━━━━━━━━━━━━━━━\u001b[0m\u001b[37m\u001b[0m \u001b[1m4s\u001b[0m 6ms/step\n",
      "              precision    recall  f1-score   support\n",
      "\n",
      "           0       0.55      0.50      0.52      1999\n",
      "           1       0.20      0.00      0.00      1126\n",
      "           2       0.67      0.00      0.00      1415\n",
      "           3       0.43      0.00      0.00      2738\n",
      "           4       0.71      1.00      0.83     13572\n",
      "\n",
      "    accuracy                           0.70     20850\n",
      "   macro avg       0.51      0.30      0.27     20850\n",
      "weighted avg       0.63      0.70      0.59     20850\n",
      "\n"
     ]
    },
    {
     "data": {
      "image/png": "[encoded data removed]",
      "text/plain": [
       "<Figure size 640x480 with 2 Axes>"
      ]
     },
     "metadata": {},
     "output_type": "display_data"
    }
   ],
   "source": [
    "# Neural Network Classification\n",
    "nn_pred = nn_class.predict(x_test)\n",
    "nn_pred = [np.argmax(arr) for arr in nn_pred]\n",
    "print(classification_report(y_pred=nn_pred, y_true=y_test))\n",
    "\n",
    "cm = confusion_matrix(y_true=y_test, y_pred=nn_pred)\n",
    "disp = ConfusionMatrixDisplay(confusion_matrix=cm, display_labels=[\"1\", \"2\", \"3\", \"4\", \"5\"])\n",
    "\n",
    "disp.plot()\n",
    "plt.show()"
   ]
  },
  {
   "cell_type": "code",
   "execution_count": 20,
   "id": "ccfe7ad3",
   "metadata": {},
   "outputs": [
    {
     "name": "stdout",
     "output_type": "stream",
     "text": [
      "              precision    recall  f1-score   support\n",
      "\n",
      "           0       0.83      0.40      0.54      2046\n",
      "           1       0.97      0.13      0.22      1136\n",
      "           2       0.82      0.15      0.25      1516\n",
      "           3       0.95      0.12      0.21      2815\n",
      "           4       0.71      1.00      0.83     14341\n",
      "\n",
      "    accuracy                           0.73     21854\n",
      "   macro avg       0.86      0.36      0.41     21854\n",
      "weighted avg       0.78      0.73      0.65     21854\n",
      "\n"
     ]
    },
    {
     "data": {
      "image/png": "[encoded data removed]",
      "text/plain": [
       "<Figure size 640x480 with 2 Axes>"
      ]
     },
     "metadata": {},
     "output_type": "display_data"
    }
   ],
   "source": [
    "from sklearn.ensemble import RandomForestClassifier\n",
    "\n",
    "rf = RandomForestClassifier()\n",
    "\n",
    "# Random Forest Classifier\n",
    "rf.fit(x_train, y_train)\n",
    "rf_pred = rf.predict(x_test)\n",
    "print(classification_report(y_pred=rf_pred, y_true=y_test))\n",
    "\n",
    "cm = confusion_matrix(y_true=y_test, y_pred=rf_pred)\n",
    "disp = ConfusionMatrixDisplay(confusion_matrix=cm, display_labels=[\"1\", \"2\", \"3\", \"4\", \"5\"])\n",
    "\n",
    "disp.plot()\n",
    "plt.show()"
   ]
  },
  {
   "cell_type": "code",
   "execution_count": null,
   "id": "63d789a9",
   "metadata": {},
   "outputs": [
    {
     "name": "stdout",
     "output_type": "stream",
     "text": [
      "\u001b[1m652/652\u001b[0m \u001b[32m━━━━━━━━━━━━━━━━━━━━\u001b[0m\u001b[37m\u001b[0m \u001b[1m4s\u001b[0m 6ms/step\n",
      "              precision    recall  f1-score   support\n",
      "\n",
      "           0       0.55      0.50      0.52      1999\n",
      "           1       0.20      0.00      0.00      1126\n",
      "           2       0.67      0.00      0.00      1415\n",
      "           3       0.43      0.00      0.00      2738\n",
      "           4       0.71      1.00      0.83     13572\n",
      "\n",
      "    accuracy                           0.70     20850\n",
      "   macro avg       0.51      0.30      0.27     20850\n",
      "weighted avg       0.63      0.70      0.59     20850\n",
      "\n"
     ]
    },
    {
     "data": {
      "image/png": "[encoded data removed]",
      "text/plain": [
       "<Figure size 640x480 with 2 Axes>"
      ]
     },
     "metadata": {},
     "output_type": "display_data"
    }
   ],
   "source": [
    "# Neural Network Regression MSE\n",
    "nn_pred = nn_reg.predict(x_test)\n",
    "print(mean_squared_error(y_true=y_test, y_pred=nn_pred))"
   ]
  },
  {
   "cell_type": "code",
   "execution_count": 29,
   "id": "c4239a1f",
   "metadata": {},
   "outputs": [
    {
     "name": "stdout",
     "output_type": "stream",
     "text": [
      "\u001b[1m683/683\u001b[0m \u001b[32m━━━━━━━━━━━━━━━━━━━━\u001b[0m\u001b[37m\u001b[0m \u001b[1m2s\u001b[0m 4ms/step\n",
      "0.7118011713027954\n"
     ]
    },
    {
     "data": {
      "image/png": "[encoded data removed]",
      "text/plain": [
       "<Figure size 640x480 with 1 Axes>"
      ]
     },
     "metadata": {},
     "output_type": "display_data"
    }
   ],
   "source": [
    "# Neural Network Regression MSE\n",
    "nn_pred = nn_reg.predict(x_test)\n",
    "print(mean_squared_error(y_true=y_test, y_pred=nn_pred))\n",
    "\n",
    "plt.plot(reg_loss.history['loss'])\n",
    "plt.title(\"Neural Network Regressor Loss\")\n",
    "plt.xlabel(\"Epochs\")\n",
    "plt.ylabel(\"Cycle Error\")\n",
    "plt.show()"
   ]
  }
 ],
 "metadata": {
  "kernelspec": {
   "display_name": "Python 3.9 (tfenv)",
   "language": "python",
   "name": "tfenv"
  },
  "language_info": {
   "codemirror_mode": {
    "name": "ipython",
    "version": 3
   },
   "file_extension": ".py",
   "mimetype": "text/x-python",
   "name": "python",
   "nbconvert_exporter": "python",
   "pygments_lexer": "ipython3",
   "version": "3.9.21"
  }
 },
 "nbformat": 4,
 "nbformat_minor": 5
}
