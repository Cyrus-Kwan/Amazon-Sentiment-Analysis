{
 "cells": [
  {
   "cell_type": "markdown",
   "id": "6c316079",
   "metadata": {},
   "source": [
    "# Multi-Aspect Modelling"
   ]
  },
  {
   "cell_type": "code",
   "execution_count": null,
   "id": "c71d2d6c",
   "metadata": {},
   "outputs": [],
   "source": [
    "'''\n",
    "Import required packages and libraries for multi-aspect modelling\n",
    "'''\n",
    "import joblib"
   ]
  },
  {
   "cell_type": "code",
   "execution_count": null,
   "id": "30d9a649",
   "metadata": {},
   "outputs": [],
   "source": [
    "PATH = \"../cleaning/multi_aspect.pkl\"\n",
    "\n",
    "data    = joblib.load(PATH)\n",
    "matrix  = data[\"matrix\"]\n",
    "columns = data[\"columns\"]"
   ]
  }
 ],
 "metadata": {
  "language_info": {
   "name": "python"
  }
 },
 "nbformat": 4,
 "nbformat_minor": 5
}
