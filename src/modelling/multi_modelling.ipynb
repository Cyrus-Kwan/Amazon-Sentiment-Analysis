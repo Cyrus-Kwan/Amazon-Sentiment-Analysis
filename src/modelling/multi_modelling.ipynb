{
 "cells": [
  {
   "cell_type": "markdown",
   "id": "6c316079",
   "metadata": {},
   "source": [
    "# Multi-Aspect Modelling"
   ]
  },
  {
   "cell_type": "code",
   "execution_count": 61,
   "id": "c71d2d6c",
   "metadata": {},
   "outputs": [],
   "source": [
    "'''\n",
    "Import required packages and libraries for multi-aspect modelling\n",
    "'''\n",
    "import joblib\n",
    "import numpy as np\n",
    "from sklearn.model_selection import train_test_split\n",
    "from sklearn.metrics import classification_report\n",
    "from sklearn.neighbors import KNeighborsClassifier\n",
    "from sklearn.neural_network import MLPClassifier\n",
    "from sklearn.svm import SVC\n",
    "from sklearn.ensemble import RandomForestClassifier\n",
    "from sklearn.tree import DecisionTreeClassifier"
   ]
  },
  {
   "cell_type": "code",
   "execution_count": 62,
   "id": "30d9a649",
   "metadata": {},
   "outputs": [],
   "source": [
    "PATH = \"../cleaning/multi_aspect.pkl\"\n",
    "\n",
    "data    = joblib.load(PATH)\n",
    "matrix  = data[\"matrix\"]\n",
    "columns = data[\"columns\"]"
   ]
  },
  {
   "cell_type": "code",
   "execution_count": 63,
   "id": "4d14f8fb",
   "metadata": {},
   "outputs": [
    {
     "name": "stdout",
     "output_type": "stream",
     "text": [
      "Column: ProductId, Value: 1.0, Column Index: 0\n",
      "Column: Helpfulness, Value: 1.0, Column Index: 1\n",
      "Column: Score, Value: 4.0, Column Index: 2\n",
      "Column: citrus gelatin, Value: 2.0, Column Index: 11947\n",
      "Column: lewis, Value: 3.0, Column Index: 30318\n",
      "Column: sugar, Value: 3.0, Column Index: 51383\n"
     ]
    }
   ],
   "source": [
    "first_row_coo = matrix[0].tocoo()\n",
    "for i, v in zip(first_row_coo.col, first_row_coo.data):\n",
    "    print(f\"Column: {columns[i]}, Value: {v}, Column Index: {i}\")"
   ]
  },
  {
   "cell_type": "markdown",
   "id": "a0d8832a",
   "metadata": {},
   "source": [
    "## Training Testing Split"
   ]
  },
  {
   "cell_type": "code",
   "execution_count": 64,
   "id": "e7f67937",
   "metadata": {},
   "outputs": [],
   "source": [
    "# Target variable we are trying to predict\n",
    "target_col = columns.index(\"Score\")\n",
    "\n",
    "x = matrix[:, [i for i in range(matrix.shape[1]) if i != target_col]]   # Remove target variable from sparse matrix\n",
    "y = matrix[:,columns.index(\"Score\")].toarray().ravel()                  # Target variable extracted from sparse matrix"
   ]
  },
  {
   "cell_type": "code",
   "execution_count": 65,
   "id": "2ecbace2",
   "metadata": {},
   "outputs": [
    {
     "name": "stdout",
     "output_type": "stream",
     "text": [
      "(116302, 59427)\n",
      "(116302, 59426)\n",
      "<class 'numpy.ndarray'>\n",
      "(116302,)\n"
     ]
    }
   ],
   "source": [
    "# Check dimensions of model inputs and labels\n",
    "print(matrix.shape)\n",
    "print(x.shape)\n",
    "print(type(y))\n",
    "print(np.shape(y))"
   ]
  },
  {
   "cell_type": "code",
   "execution_count": 66,
   "id": "acf443f7",
   "metadata": {},
   "outputs": [],
   "source": [
    "x_train, x_test, y_train, y_test = train_test_split(\n",
    "    x,              # Sparse matrix\n",
    "    y,              # Target column\n",
    "    test_size=0.2,  # 20% test split\n",
    "    random_state=42\n",
    ")"
   ]
  },
  {
   "cell_type": "markdown",
   "id": "f6ad3713",
   "metadata": {},
   "source": [
    "## Modelling"
   ]
  },
  {
   "cell_type": "code",
   "execution_count": null,
   "id": "130e04cf",
   "metadata": {},
   "outputs": [],
   "source": [
    "# Instantiate models for training\n",
    "knn = KNeighborsClassifier(n_neighbors=5, metric=\"euclidean\")\n",
    "nn  = MLPClassifier()\n",
    "svc = SVC(kernel=\"sigmoid\")\n",
    "rf  = RandomForestClassifier(n_estimators=30, max_depth=None, min_samples_split=2)\n",
    "dt  = DecisionTreeClassifier(criterion=\"entropy\", max_depth=None, min_samples_split=2)"
   ]
  },
  {
   "cell_type": "code",
   "execution_count": 79,
   "id": "212c53d7",
   "metadata": {},
   "outputs": [
    {
     "name": "stdout",
     "output_type": "stream",
     "text": [
      "              precision    recall  f1-score   support\n",
      "\n",
      "         1.0       0.10      0.25      0.14      1586\n",
      "         2.0       0.06      0.06      0.06      1042\n",
      "         3.0       0.06      0.06      0.06      1425\n",
      "         4.0       0.17      0.11      0.13      3090\n",
      "         5.0       0.72      0.67      0.69     16118\n",
      "\n",
      "    accuracy                           0.50     23261\n",
      "   macro avg       0.22      0.23      0.22     23261\n",
      "weighted avg       0.53      0.50      0.51     23261\n",
      "\n"
     ]
    }
   ],
   "source": [
    "knn.fit(x_train, y_train)\n",
    "y_pred = knn.predict(x_test)\n",
    "print(classification_report(y_pred=y_pred, y_true=y_test))"
   ]
  },
  {
   "cell_type": "code",
   "execution_count": 71,
   "id": "35599d3a",
   "metadata": {},
   "outputs": [
    {
     "name": "stdout",
     "output_type": "stream",
     "text": [
      "              precision    recall  f1-score   support\n",
      "\n",
      "         1.0       0.00      0.00      0.00      1586\n",
      "         2.0       0.00      0.00      0.00      1042\n",
      "         3.0       0.00      0.00      0.00      1425\n",
      "         4.0       0.00      0.00      0.00      3090\n",
      "         5.0       0.69      1.00      0.82     16118\n",
      "\n",
      "    accuracy                           0.69     23261\n",
      "   macro avg       0.14      0.20      0.16     23261\n",
      "weighted avg       0.48      0.69      0.57     23261\n",
      "\n"
     ]
    },
    {
     "name": "stderr",
     "output_type": "stream",
     "text": [
      "c:\\Users\\Cyrus\\anaconda3\\envs\\tfenv\\lib\\site-packages\\sklearn\\metrics\\_classification.py:1565: UndefinedMetricWarning: Precision is ill-defined and being set to 0.0 in labels with no predicted samples. Use `zero_division` parameter to control this behavior.\n",
      "  _warn_prf(average, modifier, f\"{metric.capitalize()} is\", len(result))\n",
      "c:\\Users\\Cyrus\\anaconda3\\envs\\tfenv\\lib\\site-packages\\sklearn\\metrics\\_classification.py:1565: UndefinedMetricWarning: Precision is ill-defined and being set to 0.0 in labels with no predicted samples. Use `zero_division` parameter to control this behavior.\n",
      "  _warn_prf(average, modifier, f\"{metric.capitalize()} is\", len(result))\n",
      "c:\\Users\\Cyrus\\anaconda3\\envs\\tfenv\\lib\\site-packages\\sklearn\\metrics\\_classification.py:1565: UndefinedMetricWarning: Precision is ill-defined and being set to 0.0 in labels with no predicted samples. Use `zero_division` parameter to control this behavior.\n",
      "  _warn_prf(average, modifier, f\"{metric.capitalize()} is\", len(result))\n"
     ]
    }
   ],
   "source": [
    "nn.fit(x_train, y_train)\n",
    "y_pred = nn.predict(x_test)\n",
    "print(classification_report(y_pred=y_pred, y_true=y_test))"
   ]
  },
  {
   "cell_type": "code",
   "execution_count": 86,
   "id": "ad5ce245",
   "metadata": {},
   "outputs": [
    {
     "name": "stdout",
     "output_type": "stream",
     "text": [
      "              precision    recall  f1-score   support\n",
      "\n",
      "         1.0       0.00      0.00      0.00      1586\n",
      "         2.0       0.00      0.00      0.00      1042\n",
      "         3.0       0.00      0.00      0.00      1425\n",
      "         4.0       0.00      0.00      0.00      3090\n",
      "         5.0       0.69      1.00      0.82     16118\n",
      "\n",
      "    accuracy                           0.69     23261\n",
      "   macro avg       0.14      0.20      0.16     23261\n",
      "weighted avg       0.48      0.69      0.57     23261\n",
      "\n"
     ]
    },
    {
     "name": "stderr",
     "output_type": "stream",
     "text": [
      "c:\\Users\\Cyrus\\anaconda3\\envs\\tfenv\\lib\\site-packages\\sklearn\\metrics\\_classification.py:1565: UndefinedMetricWarning: Precision is ill-defined and being set to 0.0 in labels with no predicted samples. Use `zero_division` parameter to control this behavior.\n",
      "  _warn_prf(average, modifier, f\"{metric.capitalize()} is\", len(result))\n",
      "c:\\Users\\Cyrus\\anaconda3\\envs\\tfenv\\lib\\site-packages\\sklearn\\metrics\\_classification.py:1565: UndefinedMetricWarning: Precision is ill-defined and being set to 0.0 in labels with no predicted samples. Use `zero_division` parameter to control this behavior.\n",
      "  _warn_prf(average, modifier, f\"{metric.capitalize()} is\", len(result))\n",
      "c:\\Users\\Cyrus\\anaconda3\\envs\\tfenv\\lib\\site-packages\\sklearn\\metrics\\_classification.py:1565: UndefinedMetricWarning: Precision is ill-defined and being set to 0.0 in labels with no predicted samples. Use `zero_division` parameter to control this behavior.\n",
      "  _warn_prf(average, modifier, f\"{metric.capitalize()} is\", len(result))\n"
     ]
    }
   ],
   "source": [
    "svc.fit(x_train, y_train)\n",
    "y_pred = svc.predict(x_test)\n",
    "print(classification_report(y_pred=y_pred, y_true=y_test))"
   ]
  },
  {
   "cell_type": "code",
   "execution_count": 69,
   "id": "7d75589f",
   "metadata": {},
   "outputs": [
    {
     "name": "stdout",
     "output_type": "stream",
     "text": [
      "              precision    recall  f1-score   support\n",
      "\n",
      "         1.0       0.50      0.41      0.45      1586\n",
      "         2.0       0.45      0.23      0.30      1042\n",
      "         3.0       0.39      0.17      0.24      1425\n",
      "         4.0       0.45      0.17      0.24      3090\n",
      "         5.0       0.77      0.94      0.84     16118\n",
      "\n",
      "    accuracy                           0.72     23261\n",
      "   macro avg       0.51      0.38      0.41     23261\n",
      "weighted avg       0.67      0.72      0.68     23261\n",
      "\n"
     ]
    }
   ],
   "source": [
    "rf.fit(x_train, y_train)\n",
    "y_pred = rf.predict(x_test)\n",
    "print(classification_report(y_pred=y_pred, y_true=y_test))"
   ]
  },
  {
   "cell_type": "code",
   "execution_count": 74,
   "id": "8e6e520c",
   "metadata": {},
   "outputs": [
    {
     "name": "stdout",
     "output_type": "stream",
     "text": [
      "              precision    recall  f1-score   support\n",
      "\n",
      "         1.0       0.38      0.35      0.36      1586\n",
      "         2.0       0.30      0.19      0.23      1042\n",
      "         3.0       0.25      0.16      0.19      1425\n",
      "         4.0       0.27      0.15      0.19      3090\n",
      "         5.0       0.76      0.88      0.82     16118\n",
      "\n",
      "    accuracy                           0.67     23261\n",
      "   macro avg       0.39      0.34      0.36     23261\n",
      "weighted avg       0.62      0.67      0.64     23261\n",
      "\n"
     ]
    }
   ],
   "source": [
    "dt.fit(x_train, y_train)\n",
    "y_pred = dt.predict(x_test)\n",
    "print(classification_report(y_pred=y_pred, y_true=y_test))"
   ]
  },
  {
   "cell_type": "code",
   "execution_count": 83,
   "id": "b9c7ba9b",
   "metadata": {},
   "outputs": [],
   "source": [
    "counts = {}\n",
    "for i in y_pred:\n",
    "    if i in counts.keys():\n",
    "        counts[i] += 1\n",
    "    else:\n",
    "        counts[i] = 1"
   ]
  },
  {
   "cell_type": "code",
   "execution_count": 84,
   "id": "b7d4049b",
   "metadata": {},
   "outputs": [
    {
     "data": {
      "text/plain": [
       "[(5.0, 23261)]"
      ]
     },
     "execution_count": 84,
     "metadata": {},
     "output_type": "execute_result"
    }
   ],
   "source": [
    "sorted(counts.items())"
   ]
  }
 ],
 "metadata": {
  "kernelspec": {
   "display_name": "Python 3.9 (tfenv)",
   "language": "python",
   "name": "tfenv"
  },
  "language_info": {
   "codemirror_mode": {
    "name": "ipython",
    "version": 3
   },
   "file_extension": ".py",
   "mimetype": "text/x-python",
   "name": "python",
   "nbconvert_exporter": "python",
   "pygments_lexer": "ipython3",
   "version": "3.9.21"
  }
 },
 "nbformat": 4,
 "nbformat_minor": 5
}
