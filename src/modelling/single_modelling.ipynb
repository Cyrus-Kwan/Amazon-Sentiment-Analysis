{
 "cells": [
  {
   "cell_type": "markdown",
   "id": "32623195",
   "metadata": {},
   "source": [
    "# Single Aspect Modelling"
   ]
  },
  {
   "cell_type": "code",
   "execution_count": 2,
   "id": "5d562c39",
   "metadata": {},
   "outputs": [],
   "source": [
    "'''\n",
    "Import required packages and libraries for single-aspect modelling\n",
    "'''\n",
    "import joblib"
   ]
  },
  {
   "cell_type": "code",
   "execution_count": 3,
   "id": "852fadca",
   "metadata": {},
   "outputs": [],
   "source": [
    "PATH = \"../cleaning/single_aspect.pkl\"\n",
    "\n",
    "data    = joblib.load(PATH)\n",
    "matrix  = data[\"matrix\"]\n",
    "columns = data[\"columns\"]"
   ]
  }
 ],
 "metadata": {
  "kernelspec": {
   "display_name": "Python 3.9 (tfenv)",
   "language": "python",
   "name": "tfenv"
  },
  "language_info": {
   "codemirror_mode": {
    "name": "ipython",
    "version": 3
   },
   "file_extension": ".py",
   "mimetype": "text/x-python",
   "name": "python",
   "nbconvert_exporter": "python",
   "pygments_lexer": "ipython3",
   "version": "3.9.21"
  }
 },
 "nbformat": 4,
 "nbformat_minor": 5
}
