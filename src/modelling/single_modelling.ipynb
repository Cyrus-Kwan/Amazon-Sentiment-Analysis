{
 "cells": [
  {
   "cell_type": "markdown",
   "id": "32623195",
   "metadata": {},
   "source": [
    "# Single Aspect Modelling"
   ]
  },
  {
   "cell_type": "code",
   "execution_count": 5,
   "id": "5d562c39",
   "metadata": {},
   "outputs": [],
   "source": [
    "'''\n",
    "Import required packages and libraries for multi-aspect modelling\n",
    "'''\n",
    "import joblib\n",
    "import numpy as np\n",
    "from sklearn.model_selection import train_test_split\n",
    "from sklearn.metrics import classification_report\n",
    "from sklearn.neighbors import KNeighborsClassifier\n",
    "from sklearn.neural_network import MLPClassifier\n",
    "from sklearn.svm import SVC\n",
    "from sklearn.ensemble import RandomForestClassifier\n",
    "from sklearn.tree import DecisionTreeClassifier"
   ]
  },
  {
   "cell_type": "code",
   "execution_count": 6,
   "id": "852fadca",
   "metadata": {},
   "outputs": [],
   "source": [
    "PATH = \"../cleaning/single_aspect.pkl\"\n",
    "\n",
    "data    = joblib.load(PATH)\n",
    "matrix  = data[\"matrix\"]\n",
    "columns = data[\"columns\"]"
   ]
  },
  {
   "cell_type": "code",
   "execution_count": 7,
   "id": "84b1d0ea",
   "metadata": {},
   "outputs": [
    {
     "name": "stdout",
     "output_type": "stream",
     "text": [
      "Column: Score, Value: 1.0, Column Index: 2\n",
      "Column: sized, Value: -1.0, Column Index: 47964\n"
     ]
    }
   ],
   "source": [
    "first_row_coo = matrix[0].tocoo()\n",
    "for i, v in zip(first_row_coo.col, first_row_coo.data):\n",
    "    print(f\"Column: {columns[i]}, Value: {v}, Column Index: {i}\")"
   ]
  },
  {
   "cell_type": "markdown",
   "id": "3981c4f4",
   "metadata": {},
   "source": [
    "## Training Testing Split"
   ]
  },
  {
   "cell_type": "code",
   "execution_count": 8,
   "id": "5db45422",
   "metadata": {},
   "outputs": [],
   "source": [
    "# Target variable we are trying to predict\n",
    "target_col = columns.index(\"Score\")\n",
    "\n",
    "x = matrix[:, [i for i in range(matrix.shape[1]) if i != target_col]]   # Remove target variable from sparse matrix\n",
    "y = matrix[:,columns.index(\"Score\")].toarray().ravel()                  # Target variable extracted from sparse matrix"
   ]
  },
  {
   "cell_type": "code",
   "execution_count": 9,
   "id": "2bcff10f",
   "metadata": {},
   "outputs": [
    {
     "name": "stdout",
     "output_type": "stream",
     "text": [
      "(87239, 59427)\n",
      "(87239, 59426)\n",
      "<class 'numpy.ndarray'>\n",
      "(87239,)\n"
     ]
    }
   ],
   "source": [
    "# Check dimensions of model inputs and labels\n",
    "print(matrix.shape)\n",
    "print(x.shape)\n",
    "print(type(y))\n",
    "print(np.shape(y))"
   ]
  },
  {
   "cell_type": "code",
   "execution_count": 10,
   "id": "c81fb451",
   "metadata": {},
   "outputs": [],
   "source": [
    "x_train, x_test, y_train, y_test = train_test_split(\n",
    "    x,              # Sparse matrix\n",
    "    y,              # Target column\n",
    "    test_size=0.2,  # 20% test split\n",
    "    random_state=42\n",
    ")"
   ]
  },
  {
   "cell_type": "markdown",
   "id": "91ddb8a0",
   "metadata": {},
   "source": [
    "## Training Testing Split"
   ]
  },
  {
   "cell_type": "code",
   "execution_count": 11,
   "id": "8bbed668",
   "metadata": {},
   "outputs": [],
   "source": [
    "# Target variable we are trying to predict\n",
    "target_col = columns.index(\"Score\")\n",
    "\n",
    "x = matrix[:, [i for i in range(matrix.shape[1]) if i != target_col]]   # Remove target variable from sparse matrix\n",
    "y = matrix[:,columns.index(\"Score\")].toarray().ravel()                  # Target variable extracted from sparse matrix"
   ]
  },
  {
   "cell_type": "code",
   "execution_count": 12,
   "id": "b8252007",
   "metadata": {},
   "outputs": [
    {
     "name": "stdout",
     "output_type": "stream",
     "text": [
      "(87239, 59427)\n",
      "(87239, 59426)\n",
      "<class 'numpy.ndarray'>\n",
      "(87239,)\n"
     ]
    }
   ],
   "source": [
    "# Check dimensions of model inputs and labels\n",
    "print(matrix.shape)\n",
    "print(x.shape)\n",
    "print(type(y))\n",
    "print(np.shape(y))"
   ]
  },
  {
   "cell_type": "code",
   "execution_count": 21,
   "id": "95d272f0",
   "metadata": {},
   "outputs": [],
   "source": [
    "x_train, x_test, y_train, y_test = train_test_split(\n",
    "    x,              # Sparse matrix\n",
    "    y,              # Target column\n",
    "    test_size=0.2,  # 20% test split\n",
    "    random_state=42\n",
    ")"
   ]
  },
  {
   "cell_type": "markdown",
   "id": "9d03ac08",
   "metadata": {},
   "source": [
    "## Modelling"
   ]
  },
  {
   "cell_type": "code",
   "execution_count": 22,
   "id": "d26c5e99",
   "metadata": {},
   "outputs": [
    {
     "name": "stdout",
     "output_type": "stream",
     "text": [
      "MSE: 1.7399\n",
      "Top Positive Aspects:\n",
      "time shipment: 2.5835\n",
      "meat type: 2.5634\n",
      "costcos: 2.5436\n",
      "bacon milkshakes: 2.4638\n",
      "food internet: 2.4582\n",
      "licorice jelly bean: 2.4178\n",
      "keurig cup: 2.3693\n",
      "green mountain breafast: 2.3690\n",
      "bark bite chips: 2.3688\n",
      "advertisement: 2.3631\n",
      "\n",
      "Top Negative Aspects:\n",
      "sour mix egg: -2.4646\n",
      "amino liquid: -2.2722\n",
      "vegetable oil: -2.2168\n",
      "chocolate rum cake: -2.2152\n",
      "brown water chicken soup: -2.2150\n",
      "sound quality: -2.2118\n",
      "flyer: -2.2032\n",
      "blueberry breakfast bar: -2.2028\n",
      "cuitlacoche corn smut corn fungus: -2.1703\n",
      "lemonade fruit punch: -2.0745\n"
     ]
    }
   ],
   "source": [
    "from sklearn.linear_model import Ridge\n",
    "from sklearn.metrics import mean_squared_error\n",
    "\n",
    "ridge = Ridge(alpha=1.0)  # You can tune alpha later\n",
    "ridge.fit(x_train, y_train)\n",
    "y_pred = ridge.predict(x_test)\n",
    "\n",
    "mse = mean_squared_error(y_test, y_pred)\n",
    "print(f\"MSE: {mse:.4f}\")\n",
    "\n",
    "aspect_names = columns  # or provide aspect column names directly\n",
    "coefficients = ridge.coef_\n",
    "\n",
    "# Get top contributing aspects\n",
    "top_positive = sorted(zip(coefficients, aspect_names), reverse=True)[:10]\n",
    "top_negative = sorted(zip(coefficients, aspect_names))[:10]\n",
    "\n",
    "print(\"Top Positive Aspects:\")\n",
    "for coef, name in top_positive:\n",
    "    print(f\"{name}: {coef:.4f}\")\n",
    "\n",
    "print(\"\\nTop Negative Aspects:\")\n",
    "for coef, name in top_negative:\n",
    "    print(f\"{name}: {coef:.4f}\")"
   ]
  },
  {
   "cell_type": "code",
   "execution_count": null,
   "id": "f646b66e",
   "metadata": {},
   "outputs": [],
   "source": [
    "from sklearn.ensemble import RandomForestRegressor\n",
    "\n",
    "rf = RandomForestRegressor(n_estimators=100, random_state=42)\n",
    "rf.fit(x_train, y_train)\n",
    "y_pred = rf.predict(x_test)\n",
    "\n",
    "mse = mean_squared_error(y_test, y_pred)\n",
    "print(f\"MSE: {mse:.4f}\")\n",
    "\n",
    "importances = rf.feature_importances_\n",
    "sorted_idx = importances.argsort()[::-1]\n",
    "\n",
    "print(\"Top Contributing Aspects:\")\n",
    "for idx in sorted_idx[:10]:\n",
    "    print(f\"{aspect_names[idx]}: {importances[idx]:.4f}\")"
   ]
  },
  {
   "cell_type": "code",
   "execution_count": null,
   "id": "ec5bd334",
   "metadata": {},
   "outputs": [],
   "source": [
    "# Instantiate models for training\n",
    "knn = KNeighborsClassifier(n_neighbors=5, metric=\"euclidean\")\n",
    "rf  = RandomForestClassifier(n_estimators=30, max_depth=None, min_samples_split=2)"
   ]
  },
  {
   "cell_type": "code",
   "execution_count": 24,
   "id": "23bbfcd2",
   "metadata": {},
   "outputs": [
    {
     "name": "stdout",
     "output_type": "stream",
     "text": [
      "              precision    recall  f1-score   support\n",
      "\n",
      "         1.0       0.20      0.18      0.19      2138\n",
      "         2.0       0.09      0.04      0.05      1021\n",
      "         3.0       0.09      0.05      0.06      1353\n",
      "         4.0       0.15      0.10      0.12      2219\n",
      "         5.0       0.64      0.78      0.70     10717\n",
      "\n",
      "    accuracy                           0.52     17448\n",
      "   macro avg       0.23      0.23      0.22     17448\n",
      "weighted avg       0.45      0.52      0.48     17448\n",
      "\n"
     ]
    }
   ],
   "source": [
    "knn.fit(x_train, y_train)\n",
    "y_pred = knn.predict(x_test)\n",
    "print(classification_report(y_pred=y_pred, y_true=y_test))"
   ]
  },
  {
   "cell_type": "code",
   "execution_count": 25,
   "id": "1fd64422",
   "metadata": {},
   "outputs": [
    {
     "name": "stdout",
     "output_type": "stream",
     "text": [
      "              precision    recall  f1-score   support\n",
      "\n",
      "         1.0       0.30      0.29      0.30      2138\n",
      "         2.0       0.14      0.14      0.14      1021\n",
      "         3.0       0.15      0.14      0.15      1353\n",
      "         4.0       0.19      0.18      0.19      2219\n",
      "         5.0       0.69      0.71      0.70     10717\n",
      "\n",
      "    accuracy                           0.51     17448\n",
      "   macro avg       0.30      0.29      0.29     17448\n",
      "weighted avg       0.51      0.51      0.51     17448\n",
      "\n"
     ]
    }
   ],
   "source": [
    "rf.fit(x_train, y_train)\n",
    "y_pred = rf.predict(x_test)\n",
    "print(classification_report(y_pred=y_pred, y_true=y_test))"
   ]
  }
 ],
 "metadata": {
  "kernelspec": {
   "display_name": "Python 3.9 (tfenv)",
   "language": "python",
   "name": "tfenv"
  },
  "language_info": {
   "codemirror_mode": {
    "name": "ipython",
    "version": 3
   },
   "file_extension": ".py",
   "mimetype": "text/x-python",
   "name": "python",
   "nbconvert_exporter": "python",
   "pygments_lexer": "ipython3",
   "version": "3.9.21"
  }
 },
 "nbformat": 4,
 "nbformat_minor": 5
}
