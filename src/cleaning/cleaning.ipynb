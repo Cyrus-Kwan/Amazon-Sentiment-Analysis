{
 "cells": [
  {
   "cell_type": "markdown",
   "metadata": {},
   "source": [
    "# Data Cleaning"
   ]
  },
  {
   "cell_type": "code",
   "execution_count": 2,
   "metadata": {},
   "outputs": [],
   "source": [
    "'''\n",
    "Import required packages and libraries for data exploration\n",
    "'''\n",
    "import pandas as pd"
   ]
  },
  {
   "cell_type": "code",
   "execution_count": 6,
   "metadata": {},
   "outputs": [],
   "source": [
    "'''\n",
    "Set up file path and data handling objects\n",
    "'''\n",
    "PATH = \"../data/reviews.csv\"\n",
    "data = pd.read_csv(PATH)"
   ]
  },
  {
   "cell_type": "markdown",
   "metadata": {},
   "source": [
    "## Remove Irrelevant Data Points\n",
    "The first stage of data cleaning is to identify and remove data points that aren't related to our task. In \"Amazon Fine Food Reviews\", we have many different product reviews including: pet food, medicine, microwavable food, fine foods, etc.\n",
    "- Is this category of food or type of review relevant to our task?\n",
    "- Would removing this type of review from the data improve the accuracy of our model?\n",
    "- If we remove this type of review, how will it effect our training process (would there be too little data remaining?)"
   ]
  },
  {
   "cell_type": "markdown",
   "metadata": {},
   "source": [
    "## Remove Uncecessary Columns\n",
    "- What columns are necessary for our model? \n",
    "- Is there anything that needs to be removed?"
   ]
  },
  {
   "cell_type": "markdown",
   "metadata": {},
   "source": [
    "## Case Sensitivity\n",
    "Convert the input features in the raw dataset into a case insensitive format (all lowercase/uppercase) to reduce the amount of distinct words in the data."
   ]
  },
  {
   "cell_type": "code",
   "execution_count": 8,
   "metadata": {},
   "outputs": [
    {
     "name": "stdout",
     "output_type": "stream",
     "text": [
      "Sample of converted Summary:\n",
      "0    good quality dog food\n",
      "1        not as advertised\n",
      "2    \"delight\" says it all\n",
      "3           cough medicine\n",
      "4              great taffy\n",
      "Name: Summary, dtype: object\n",
      "\n",
      "Sample of converted Text:\n",
      "0    i have bought several of the vitality canned d...\n",
      "1    product arrived labeled as jumbo salted peanut...\n",
      "2    this is a confection that has been around a fe...\n",
      "3    if you are looking for the secret ingredient i...\n",
      "4    great taffy at a great price.  there was a wid...\n",
      "Name: Text, dtype: object\n"
     ]
    }
   ],
   "source": [
    "# Convert text features to lowercase\n",
    "data['Summary'] = data['Summary'].str.lower()\n",
    "data['Text'] = data['Text'].str.lower()\n",
    "\n",
    "# Verify the conversion\n",
    "print(\"Sample of converted Summary:\")\n",
    "print(data['Summary'].head())\n",
    "print(\"\\nSample of converted Text:\")\n",
    "print(data['Text'].head())"
   ]
  },
  {
   "cell_type": "markdown",
   "metadata": {},
   "source": [
    "## Remove Filler Words\n",
    "Some words like \"I\", \"the\", \"a\", etc. don't impact the sentiment of the text content. Remove these words from all review content so there is less redundant features for the final model."
   ]
  },
  {
   "cell_type": "code",
   "execution_count": 14,
   "metadata": {},
   "outputs": [
    {
     "name": "stdout",
     "output_type": "stream",
     "text": [
      "Downloading NLTK stopwords...\n",
      "\n",
      "Sample of English stopwords:\n",
      "['a', 'about', 'above', 'after', 'again', 'against', 'ain', 'all', 'am', 'an']\n",
      "Removing stop words from Summary...\n",
      "Removing stop words from Text...\n",
      "\n",
      "Sample of processed Summary:\n",
      "0    good quality dog food\n",
      "1               advertised\n",
      "2           \"delight\" says\n",
      "3           cough medicine\n",
      "4              great taffy\n",
      "Name: Summary, dtype: object\n",
      "\n",
      "Sample of processed Text:\n",
      "0    bought several vitality canned dog food produc...\n",
      "1    product arrived labeled jumbo salted peanuts.....\n",
      "2    confection around centuries. light, pillowy ci...\n",
      "3    looking secret ingredient robitussin believe f...\n",
      "4    great taffy great price. wide assortment yummy...\n",
      "Name: Text, dtype: object\n"
     ]
    }
   ],
   "source": [
    "import nltk\n",
    "from nltk.corpus import stopwords    \n",
    "\n",
    "print(\"Downloading NLTK stopwords...\")\n",
    "nltk.download('stopwords', quiet=True)\n",
    "    \n",
    "stop_words = set(stopwords.words('english'))\n",
    "\n",
    "# Print sample of stopwords\n",
    "print(\"\\nSample of English stopwords:\")\n",
    "print(sorted(list(stop_words))[:10])  # Print first 10 stopwords\n",
    "\n",
    "def remove_stopwords_from_text(text):\n",
    "    if pd.isna(text):\n",
    "        return text\n",
    "    words = text.lower().split()\n",
    "    filtered_words = [word for word in words if word not in stop_words]\n",
    "    return ' '.join(filtered_words)\n",
    "\n",
    "# Process both columns\n",
    "print(\"Removing stop words from Summary...\")\n",
    "data['Summary'] = data['Summary'].apply(remove_stopwords_from_text)\n",
    "\n",
    "print(\"Removing stop words from Text...\")\n",
    "data['Text'] = data['Text'].apply(remove_stopwords_from_text)\n",
    "\n",
    "# Print samples for verification\n",
    "print(\"\\nSample of processed Summary:\")\n",
    "print(data['Summary'].head())\n",
    "print(\"\\nSample of processed Text:\")\n",
    "print(data['Text'].head())\n",
    "    "
   ]
  },
  {
   "cell_type": "markdown",
   "metadata": {},
   "source": [
    "## Punctuation Handling\n",
    "Some words that contain punctuation can be recorded as separate features without punctuation handling (e.g., \"Steve's pizza is great!\" and \"Steve makes great pizza!\").\n",
    "\n",
    "| is | great | great! | makes | pizza | pizza! | Steve | Steve's |\n",
    "|----|-------|--------|-------|-------|--------|-------|---------|\n",
    "|1   | 1     | 1      | 1     | 1     | 1      | 1     | 1       |\n",
    "\n",
    "We want to remove uncessesary punctuation so that we don't have duplicates of effectively the same word.\n",
    "| is | great | makes | pizza | Steve |\n",
    "|----|-------|-------|-------|-------|\n",
    "| 1  | 2     | 1     | 2     | 2     |\n",
    "\n",
    "Doing this prevents our model from interpreting duplicate words as two separate features and reduces the number of dimensions our model has to process (increasing efficiency)."
   ]
  },
  {
   "cell_type": "code",
   "execution_count": 15,
   "metadata": {},
   "outputs": [
    {
     "name": "stdout",
     "output_type": "stream",
     "text": [
      "Removing punctuation from Summary...\n",
      "Removing punctuation from Text...\n",
      "\n",
      "Sample of processed Summary:\n",
      "0    good quality dog food\n",
      "1               advertised\n",
      "2             delight says\n",
      "3           cough medicine\n",
      "4              great taffy\n",
      "Name: Summary, dtype: object\n",
      "\n",
      "Sample of processed Text:\n",
      "0    bought several vitality canned dog food produc...\n",
      "1    product arrived labeled jumbo salted peanutsth...\n",
      "2    confection around centuries light pillowy citr...\n",
      "3    looking secret ingredient robitussin believe f...\n",
      "4    great taffy great price wide assortment yummy ...\n",
      "Name: Text, dtype: object\n"
     ]
    }
   ],
   "source": [
    "import string\n",
    "import re\n",
    "    \n",
    "# Function to remove punctuation from text\n",
    "def clean_text(text):\n",
    "    if pd.isna(text):\n",
    "        return text\n",
    "    \n",
    "    # Remove other punctuation\n",
    "    text = ''.join(char for char in text if char not in string.punctuation)\n",
    "    \n",
    "    # Handle multiple spaces\n",
    "    text = re.sub(r'\\s+', ' ', text)\n",
    "    \n",
    "    return text.strip()\n",
    "    \n",
    "# Process both columns\n",
    "print(\"Removing punctuation from Summary...\")\n",
    "data['Summary'] = data['Summary'].apply(clean_text)\n",
    "\n",
    "print(\"Removing punctuation from Text...\")\n",
    "data['Text'] = data['Text'].apply(clean_text)\n",
    "\n",
    "    # Print samples for verification\n",
    "print(\"\\nSample of processed Summary:\")\n",
    "print(data['Summary'].head())\n",
    "print(\"\\nSample of processed Text:\")\n",
    "print(data['Text'].head())"
   ]
  },
  {
   "cell_type": "markdown",
   "metadata": {},
   "source": [
    "## Dependency Parsing Split\n",
    "In this section we need to split the dataset into single entity and multiple entity data points. This step is necessary because the framework for our model requires that single entity data points are handled by **model A** and multiple entity data points are handled by **model B**."
   ]
  },
  {
   "cell_type": "code",
   "execution_count": 30,
   "metadata": {},
   "outputs": [
    {
     "name": "stdout",
     "output_type": "stream",
     "text": [
      "Analyzing aspects in Summary...\n",
      "Analyzing aspects in Text...\n",
      "\n",
      "Splitting data into single and multiple aspect sets...\n",
      "Saving single aspect data to ../data/reviews_single_aspect.csv...\n",
      "Saving multiple aspect data to ../data/reviews_multiple_aspect.csv...\n"
     ]
    }
   ],
   "source": [
    "import pandas as pd\n",
    "\n",
    "food_aspects = {\n",
    "    'taste': ['taste', 'flavor', 'flavour', 'delicious', 'yummy', 'tasty', 'sweet', 'sour', 'bitter', 'spicy'],\n",
    "    'delivery': ['delivery', 'shipping', 'arrived', 'received', 'package', 'shipment'],\n",
    "    'quality': ['quality', 'fresh', 'freshness', 'premium', 'grade', 'standard'],\n",
    "    'price': ['price', 'cost', 'expensive', 'cheap', 'affordable', 'value', 'worth'],\n",
    "    'packaging': ['packaging', 'package', 'container', 'box', 'seal', 'wrapped'],\n",
    "    'service': ['service', 'customer service', 'support', 'help', 'assistance'],\n",
    "    'texture': ['texture', 'consistency', 'soft', 'hard', 'crunchy', 'smooth', 'creamy'],\n",
    "    'appearance': ['appearance', 'look', 'color', 'colour', 'shape', 'size']\n",
    "}\n",
    "\n",
    "def count_aspects(text):\n",
    "    \"\"\"Count the number of food-related aspects mentioned in the text.\"\"\"\n",
    "    if pd.isna(text):\n",
    "        return 0\n",
    "    \n",
    "    text = text.lower()\n",
    "    aspects_found = set()\n",
    "    \n",
    "    for aspect, keywords in food_aspects.items():\n",
    "        for keyword in keywords:\n",
    "            if keyword in text:\n",
    "                aspects_found.add(aspect)\n",
    "                break\n",
    "    \n",
    "    return len(aspects_found)\n",
    "\n",
    "# Count aspects in each text\n",
    "print(\"Analyzing aspects in Summary...\")\n",
    "data['summary_aspect_count'] = data['Summary'].apply(count_aspects)\n",
    "\n",
    "print(\"Analyzing aspects in Text...\")\n",
    "data['text_aspect_count'] = data['Text'].apply(count_aspects)\n",
    "\n",
    "# Split the data\n",
    "print(\"\\nSplitting data into single and multiple aspect sets...\")\n",
    "\n",
    "# Single aspect: either Summary or Text mentions exactly one aspect\n",
    "single_aspect_mask = (data['summary_aspect_count'] <= 1) | (data['text_aspect_count'] <= 1)\n",
    "single_aspect_data = data[single_aspect_mask].copy()\n",
    "\n",
    "# Multiple aspect: both Summary and Text mention more than one aspect\n",
    "multiple_aspect_mask = (data['summary_aspect_count'] > 1) & (data['text_aspect_count'] > 1)\n",
    "multiple_aspect_data = data[multiple_aspect_mask].copy()\n",
    "\n",
    "\n",
    "# Remove temporary columns before saving\n",
    "single_aspect_data = single_aspect_data.drop(['summary_aspect_count', 'text_aspect_count'], axis=1)\n",
    "multiple_aspect_data = multiple_aspect_data.drop(['summary_aspect_count', 'text_aspect_count'], axis=1)\n",
    "\n",
    "# Save the split datasets\n",
    "single_entity_file = \"../data/reviews_single_aspect.csv\"\n",
    "multiple_entity_file = \"../data/reviews_multiple_aspect.csv\"\n",
    "print(f\"Saving single aspect data to {single_entity_file}...\")\n",
    "single_aspect_data.to_csv(single_entity_file, index=False)\n",
    "\n",
    "print(f\"Saving multiple aspect data to {multiple_entity_file}...\")\n",
    "multiple_aspect_data.to_csv(multiple_entity_file, index=False)"
   ]
  },
  {
   "cell_type": "markdown",
   "metadata": {},
   "source": [
    "## Word Embedding"
   ]
  },
  {
   "cell_type": "code",
   "execution_count": null,
   "metadata": {},
   "outputs": [],
   "source": []
  }
 ],
 "metadata": {
  "kernelspec": {
   "display_name": "Python 3",
   "language": "python",
   "name": "python3"
  },
  "language_info": {
   "codemirror_mode": {
    "name": "ipython",
    "version": 3
   },
   "file_extension": ".py",
   "mimetype": "text/x-python",
   "name": "python",
   "nbconvert_exporter": "python",
   "pygments_lexer": "ipython3",
   "version": "3.10.6"
  }
 },
 "nbformat": 4,
 "nbformat_minor": 2
}
